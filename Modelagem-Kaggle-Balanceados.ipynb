{
 "cells": [
  {
   "cell_type": "code",
   "execution_count": 29,
   "id": "155a26d4",
   "metadata": {},
   "outputs": [
    {
     "name": "stdout",
     "output_type": "stream",
     "text": [
      "Requirement already satisfied: lightgbm in c:\\users\\afigueiredo\\anaconda3\\lib\\site-packages (4.3.0)\n",
      "Requirement already satisfied: numpy in c:\\users\\afigueiredo\\anaconda3\\lib\\site-packages (from lightgbm) (1.21.5)\n",
      "Requirement already satisfied: scipy in c:\\users\\afigueiredo\\anaconda3\\lib\\site-packages (from lightgbm) (1.9.1)\n",
      "Note: you may need to restart the kernel to use updated packages.\n"
     ]
    }
   ],
   "source": [
    "pip install lightgbm"
   ]
  },
  {
   "cell_type": "code",
   "execution_count": 32,
   "id": "6d08e6c4",
   "metadata": {},
   "outputs": [
    {
     "name": "stdout",
     "output_type": "stream",
     "text": [
      "Collecting shap\n",
      "  Downloading shap-0.45.0-cp39-cp39-win_amd64.whl (453 kB)\n",
      "     -------------------------------------- 453.1/453.1 kB 2.8 MB/s eta 0:00:00\n",
      "Requirement already satisfied: pandas in c:\\users\\afigueiredo\\anaconda3\\lib\\site-packages (from shap) (1.4.4)\n",
      "Collecting slicer==0.0.7\n",
      "  Downloading slicer-0.0.7-py3-none-any.whl (14 kB)\n",
      "Requirement already satisfied: scipy in c:\\users\\afigueiredo\\anaconda3\\lib\\site-packages (from shap) (1.9.1)\n",
      "Requirement already satisfied: tqdm>=4.27.0 in c:\\users\\afigueiredo\\anaconda3\\lib\\site-packages (from shap) (4.50.2)\n",
      "Requirement already satisfied: numba in c:\\users\\afigueiredo\\anaconda3\\lib\\site-packages (from shap) (0.55.1)\n",
      "Requirement already satisfied: cloudpickle in c:\\users\\afigueiredo\\anaconda3\\lib\\site-packages (from shap) (2.0.0)\n",
      "Requirement already satisfied: packaging>20.9 in c:\\users\\afigueiredo\\anaconda3\\lib\\site-packages (from shap) (21.3)\n",
      "Requirement already satisfied: scikit-learn in c:\\users\\afigueiredo\\anaconda3\\lib\\site-packages (from shap) (1.0.2)\n",
      "Requirement already satisfied: numpy in c:\\users\\afigueiredo\\anaconda3\\lib\\site-packages (from shap) (1.21.5)\n",
      "Requirement already satisfied: pyparsing!=3.0.5,>=2.0.2 in c:\\users\\afigueiredo\\anaconda3\\lib\\site-packages (from packaging>20.9->shap) (3.0.9)\n",
      "Requirement already satisfied: llvmlite<0.39,>=0.38.0rc1 in c:\\users\\afigueiredo\\anaconda3\\lib\\site-packages (from numba->shap) (0.38.0)\n",
      "Requirement already satisfied: setuptools in c:\\users\\afigueiredo\\anaconda3\\lib\\site-packages (from numba->shap) (63.4.1)\n",
      "Requirement already satisfied: python-dateutil>=2.8.1 in c:\\users\\afigueiredo\\anaconda3\\lib\\site-packages (from pandas->shap) (2.8.2)\n",
      "Requirement already satisfied: pytz>=2020.1 in c:\\users\\afigueiredo\\anaconda3\\lib\\site-packages (from pandas->shap) (2022.1)\n",
      "Requirement already satisfied: threadpoolctl>=2.0.0 in c:\\users\\afigueiredo\\anaconda3\\lib\\site-packages (from scikit-learn->shap) (2.2.0)\n",
      "Requirement already satisfied: joblib>=0.11 in c:\\users\\afigueiredo\\anaconda3\\lib\\site-packages (from scikit-learn->shap) (1.3.1)\n",
      "Requirement already satisfied: six>=1.5 in c:\\users\\afigueiredo\\anaconda3\\lib\\site-packages (from python-dateutil>=2.8.1->pandas->shap) (1.16.0)\n",
      "Installing collected packages: slicer, shap\n",
      "Successfully installed shap-0.45.0 slicer-0.0.7\n",
      "Note: you may need to restart the kernel to use updated packages.\n"
     ]
    }
   ],
   "source": [
    "pip install shap"
   ]
  },
  {
   "cell_type": "code",
   "execution_count": 53,
   "id": "96ab3788",
   "metadata": {},
   "outputs": [],
   "source": [
    "import pandas as pd \n",
    "import numpy as np \n",
    "import time #Calcular o tempo\n",
    "\n",
    "from sklearn import preprocessing\n",
    "from imblearn.over_sampling import SMOTE #Para balancear os dados - faremos só no treino\n",
    "\n",
    "from sklearn.feature_selection import RFE,SequentialFeatureSelector #Seleção de variáveis\n",
    "\n",
    "from sklearn.linear_model import LogisticRegressionCV\n",
    "from sklearn.tree import DecisionTreeClassifier\n",
    "from sklearn.naive_bayes import GaussianNB, MultinomialNB, ComplementNB\n",
    "\n",
    "from sklearn.ensemble import RandomForestClassifier\n",
    "from lightgbm import LGBMClassifier\n",
    "\n",
    "from sklearn.model_selection import train_test_split, cross_val_score, KFold, GridSearchCV, RandomizedSearchCV\n",
    "from sklearn.metrics import accuracy_score, confusion_matrix,cohen_kappa_score,roc_auc_score,roc_curve,recall_score,precision_score\n",
    "\n",
    "\n",
    "import plotly.express as px\n",
    "import matplotlib.pyplot as plt\n",
    "import shap\n",
    "#from sklearn.pipeline import make_pipeline\n"
   ]
  },
  {
   "cell_type": "code",
   "execution_count": 2,
   "id": "400b6d4a",
   "metadata": {},
   "outputs": [],
   "source": [
    "pd.set_option('display.max_columns',  30)"
   ]
  },
  {
   "cell_type": "code",
   "execution_count": 3,
   "id": "5d68302f",
   "metadata": {},
   "outputs": [
    {
     "data": {
      "text/html": [
       "<div>\n",
       "<style scoped>\n",
       "    .dataframe tbody tr th:only-of-type {\n",
       "        vertical-align: middle;\n",
       "    }\n",
       "\n",
       "    .dataframe tbody tr th {\n",
       "        vertical-align: top;\n",
       "    }\n",
       "\n",
       "    .dataframe thead th {\n",
       "        text-align: right;\n",
       "    }\n",
       "</style>\n",
       "<table border=\"1\" class=\"dataframe\">\n",
       "  <thead>\n",
       "    <tr style=\"text-align: right;\">\n",
       "      <th></th>\n",
       "      <th>PatientId</th>\n",
       "      <th>AppointmentID</th>\n",
       "      <th>Genero</th>\n",
       "      <th>Agendamento</th>\n",
       "      <th>Consulta</th>\n",
       "      <th>Idade</th>\n",
       "      <th>BairroUBS</th>\n",
       "      <th>BolsaFamilia</th>\n",
       "      <th>Hipertencao</th>\n",
       "      <th>Diabetes</th>\n",
       "      <th>Alcoolatra</th>\n",
       "      <th>Deficiente</th>\n",
       "      <th>SMS_received</th>\n",
       "      <th>No-show</th>\n",
       "      <th>StatusFalta</th>\n",
       "      <th>StatusComparecimento</th>\n",
       "      <th>DiaAgendamento</th>\n",
       "      <th>DiaConsulta</th>\n",
       "      <th>dia_semana</th>\n",
       "      <th>TempoEspera</th>\n",
       "      <th>Feminimo</th>\n",
       "      <th>PrecipitaçãoMediaAG</th>\n",
       "      <th>TempMaxAG</th>\n",
       "      <th>TempMinAG</th>\n",
       "      <th>Chuva</th>\n",
       "      <th>Qtd_doencas</th>\n",
       "      <th>Faixa_Idade</th>\n",
       "    </tr>\n",
       "  </thead>\n",
       "  <tbody>\n",
       "    <tr>\n",
       "      <th>0</th>\n",
       "      <td>2.987250e+13</td>\n",
       "      <td>5642903</td>\n",
       "      <td>F</td>\n",
       "      <td>2016-04-29T18:38:08Z</td>\n",
       "      <td>2016-04-29T00:00:00Z</td>\n",
       "      <td>62</td>\n",
       "      <td>JARDIM DA PENHA</td>\n",
       "      <td>0</td>\n",
       "      <td>1</td>\n",
       "      <td>0</td>\n",
       "      <td>0</td>\n",
       "      <td>0</td>\n",
       "      <td>0</td>\n",
       "      <td>No</td>\n",
       "      <td>0</td>\n",
       "      <td>Compareceu</td>\n",
       "      <td>2016-04-29</td>\n",
       "      <td>2016-04-29</td>\n",
       "      <td>Sex</td>\n",
       "      <td>0</td>\n",
       "      <td>1</td>\n",
       "      <td>0.008333</td>\n",
       "      <td>22.866667</td>\n",
       "      <td>22.529167</td>\n",
       "      <td>1</td>\n",
       "      <td>1</td>\n",
       "      <td>60 anos ou mais</td>\n",
       "    </tr>\n",
       "    <tr>\n",
       "      <th>1</th>\n",
       "      <td>5.589978e+14</td>\n",
       "      <td>5642503</td>\n",
       "      <td>M</td>\n",
       "      <td>2016-04-29T16:08:27Z</td>\n",
       "      <td>2016-04-29T00:00:00Z</td>\n",
       "      <td>56</td>\n",
       "      <td>JARDIM DA PENHA</td>\n",
       "      <td>0</td>\n",
       "      <td>0</td>\n",
       "      <td>0</td>\n",
       "      <td>0</td>\n",
       "      <td>0</td>\n",
       "      <td>0</td>\n",
       "      <td>No</td>\n",
       "      <td>0</td>\n",
       "      <td>Compareceu</td>\n",
       "      <td>2016-04-29</td>\n",
       "      <td>2016-04-29</td>\n",
       "      <td>Sex</td>\n",
       "      <td>0</td>\n",
       "      <td>0</td>\n",
       "      <td>0.008333</td>\n",
       "      <td>22.866667</td>\n",
       "      <td>22.529167</td>\n",
       "      <td>1</td>\n",
       "      <td>0</td>\n",
       "      <td>Entre 30 e 59 anos</td>\n",
       "    </tr>\n",
       "  </tbody>\n",
       "</table>\n",
       "</div>"
      ],
      "text/plain": [
       "      PatientId  AppointmentID Genero           Agendamento  \\\n",
       "0  2.987250e+13        5642903      F  2016-04-29T18:38:08Z   \n",
       "1  5.589978e+14        5642503      M  2016-04-29T16:08:27Z   \n",
       "\n",
       "               Consulta  Idade        BairroUBS  BolsaFamilia  Hipertencao  \\\n",
       "0  2016-04-29T00:00:00Z     62  JARDIM DA PENHA             0            1   \n",
       "1  2016-04-29T00:00:00Z     56  JARDIM DA PENHA             0            0   \n",
       "\n",
       "   Diabetes  Alcoolatra  Deficiente  SMS_received No-show  StatusFalta  \\\n",
       "0         0           0           0             0      No            0   \n",
       "1         0           0           0             0      No            0   \n",
       "\n",
       "  StatusComparecimento DiaAgendamento DiaConsulta dia_semana  TempoEspera  \\\n",
       "0           Compareceu     2016-04-29  2016-04-29        Sex            0   \n",
       "1           Compareceu     2016-04-29  2016-04-29        Sex            0   \n",
       "\n",
       "   Feminimo  PrecipitaçãoMediaAG  TempMaxAG  TempMinAG  Chuva  Qtd_doencas  \\\n",
       "0         1             0.008333  22.866667  22.529167      1            1   \n",
       "1         0             0.008333  22.866667  22.529167      1            0   \n",
       "\n",
       "          Faixa_Idade  \n",
       "0     60 anos ou mais  \n",
       "1  Entre 30 e 59 anos  "
      ]
     },
     "execution_count": 3,
     "metadata": {},
     "output_type": "execute_result"
    }
   ],
   "source": [
    "df = pd.read_csv(r'..\\Dados\\Kaggle\\modelar.csv', sep = ';')\n",
    "df.head(2)"
   ]
  },
  {
   "cell_type": "code",
   "execution_count": 4,
   "id": "e4efba9f",
   "metadata": {},
   "outputs": [
    {
     "name": "stdout",
     "output_type": "stream",
     "text": [
      "<class 'pandas.core.frame.DataFrame'>\n",
      "RangeIndex: 110521 entries, 0 to 110520\n",
      "Data columns (total 27 columns):\n",
      " #   Column                Non-Null Count   Dtype  \n",
      "---  ------                --------------   -----  \n",
      " 0   PatientId             110521 non-null  float64\n",
      " 1   AppointmentID         110521 non-null  int64  \n",
      " 2   Genero                110521 non-null  object \n",
      " 3   Agendamento           110521 non-null  object \n",
      " 4   Consulta              110521 non-null  object \n",
      " 5   Idade                 110521 non-null  int64  \n",
      " 6   BairroUBS             110521 non-null  object \n",
      " 7   BolsaFamilia          110521 non-null  int64  \n",
      " 8   Hipertencao           110521 non-null  int64  \n",
      " 9   Diabetes              110521 non-null  int64  \n",
      " 10  Alcoolatra            110521 non-null  int64  \n",
      " 11  Deficiente            110521 non-null  int64  \n",
      " 12  SMS_received          110521 non-null  int64  \n",
      " 13  No-show               110521 non-null  object \n",
      " 14  StatusFalta           110521 non-null  int64  \n",
      " 15  StatusComparecimento  110521 non-null  object \n",
      " 16  DiaAgendamento        110521 non-null  object \n",
      " 17  DiaConsulta           110521 non-null  object \n",
      " 18  dia_semana            110521 non-null  object \n",
      " 19  TempoEspera           110521 non-null  int64  \n",
      " 20  Feminimo              110521 non-null  int64  \n",
      " 21  PrecipitaçãoMediaAG   110521 non-null  float64\n",
      " 22  TempMaxAG             110521 non-null  float64\n",
      " 23  TempMinAG             110521 non-null  float64\n",
      " 24  Chuva                 110521 non-null  int64  \n",
      " 25  Qtd_doencas           110521 non-null  int64  \n",
      " 26  Faixa_Idade           110521 non-null  object \n",
      "dtypes: float64(4), int64(13), object(10)\n",
      "memory usage: 22.8+ MB\n"
     ]
    }
   ],
   "source": [
    "df.info()"
   ]
  },
  {
   "cell_type": "markdown",
   "id": "9b9554f5",
   "metadata": {},
   "source": [
    "### Escolhendo a base para usar no modelo \n",
    "**Na segunda versão testar com variaveis dummies para indicar o NomeUnidade**\n"
   ]
  },
  {
   "cell_type": "code",
   "execution_count": 5,
   "id": "93e24d46",
   "metadata": {},
   "outputs": [],
   "source": [
    "#Dummie para o dia da semana (consulta)\n",
    "df = pd.concat([df, pd.get_dummies(df['dia_semana'])], axis = 1)"
   ]
  },
  {
   "cell_type": "code",
   "execution_count": 6,
   "id": "8c7247b6",
   "metadata": {},
   "outputs": [
    {
     "name": "stdout",
     "output_type": "stream",
     "text": [
      "<class 'pandas.core.frame.DataFrame'>\n",
      "RangeIndex: 110521 entries, 0 to 110520\n",
      "Data columns (total 33 columns):\n",
      " #   Column                Non-Null Count   Dtype  \n",
      "---  ------                --------------   -----  \n",
      " 0   PatientId             110521 non-null  float64\n",
      " 1   AppointmentID         110521 non-null  int64  \n",
      " 2   Genero                110521 non-null  object \n",
      " 3   Agendamento           110521 non-null  object \n",
      " 4   Consulta              110521 non-null  object \n",
      " 5   Idade                 110521 non-null  int64  \n",
      " 6   BairroUBS             110521 non-null  object \n",
      " 7   BolsaFamilia          110521 non-null  int64  \n",
      " 8   Hipertencao           110521 non-null  int64  \n",
      " 9   Diabetes              110521 non-null  int64  \n",
      " 10  Alcoolatra            110521 non-null  int64  \n",
      " 11  Deficiente            110521 non-null  int64  \n",
      " 12  SMS_received          110521 non-null  int64  \n",
      " 13  No-show               110521 non-null  object \n",
      " 14  StatusFalta           110521 non-null  int64  \n",
      " 15  StatusComparecimento  110521 non-null  object \n",
      " 16  DiaAgendamento        110521 non-null  object \n",
      " 17  DiaConsulta           110521 non-null  object \n",
      " 18  dia_semana            110521 non-null  object \n",
      " 19  TempoEspera           110521 non-null  int64  \n",
      " 20  Feminimo              110521 non-null  int64  \n",
      " 21  PrecipitaçãoMediaAG   110521 non-null  float64\n",
      " 22  TempMaxAG             110521 non-null  float64\n",
      " 23  TempMinAG             110521 non-null  float64\n",
      " 24  Chuva                 110521 non-null  int64  \n",
      " 25  Qtd_doencas           110521 non-null  int64  \n",
      " 26  Faixa_Idade           110521 non-null  object \n",
      " 27  Qua                   110521 non-null  uint8  \n",
      " 28  Qui                   110521 non-null  uint8  \n",
      " 29  Sab                   110521 non-null  uint8  \n",
      " 30  Seg                   110521 non-null  uint8  \n",
      " 31  Sex                   110521 non-null  uint8  \n",
      " 32  Ter                   110521 non-null  uint8  \n",
      "dtypes: float64(4), int64(13), object(10), uint8(6)\n",
      "memory usage: 23.4+ MB\n"
     ]
    }
   ],
   "source": [
    "df.info()"
   ]
  },
  {
   "cell_type": "code",
   "execution_count": 7,
   "id": "52ac85aa",
   "metadata": {},
   "outputs": [],
   "source": [
    "df_mod = df[['Idade','Alcoolatra', 'Deficiente', 'SMS_received', 'StatusFalta',\n",
    "        'TempoEspera', 'Feminimo', 'PrecipitaçãoMediaAG', 'TempMaxAG', 'TempMinAG', 'Chuva', 'Qtd_doencas'\n",
    "      , 'Qua', 'Qui',  'Sab', 'Seg', 'Sex', 'Ter']]"
   ]
  },
  {
   "cell_type": "code",
   "execution_count": 8,
   "id": "2ad953ab",
   "metadata": {},
   "outputs": [
    {
     "name": "stdout",
     "output_type": "stream",
     "text": [
      "<class 'pandas.core.frame.DataFrame'>\n",
      "RangeIndex: 110521 entries, 0 to 110520\n",
      "Data columns (total 18 columns):\n",
      " #   Column               Non-Null Count   Dtype  \n",
      "---  ------               --------------   -----  \n",
      " 0   Idade                110521 non-null  int64  \n",
      " 1   Alcoolatra           110521 non-null  int64  \n",
      " 2   Deficiente           110521 non-null  int64  \n",
      " 3   SMS_received         110521 non-null  int64  \n",
      " 4   StatusFalta          110521 non-null  int64  \n",
      " 5   TempoEspera          110521 non-null  int64  \n",
      " 6   Feminimo             110521 non-null  int64  \n",
      " 7   PrecipitaçãoMediaAG  110521 non-null  float64\n",
      " 8   TempMaxAG            110521 non-null  float64\n",
      " 9   TempMinAG            110521 non-null  float64\n",
      " 10  Chuva                110521 non-null  int64  \n",
      " 11  Qtd_doencas          110521 non-null  int64  \n",
      " 12  Qua                  110521 non-null  uint8  \n",
      " 13  Qui                  110521 non-null  uint8  \n",
      " 14  Sab                  110521 non-null  uint8  \n",
      " 15  Seg                  110521 non-null  uint8  \n",
      " 16  Sex                  110521 non-null  uint8  \n",
      " 17  Ter                  110521 non-null  uint8  \n",
      "dtypes: float64(3), int64(9), uint8(6)\n",
      "memory usage: 10.8 MB\n"
     ]
    }
   ],
   "source": [
    "df_mod.info()"
   ]
  },
  {
   "cell_type": "code",
   "execution_count": 9,
   "id": "496c98f4",
   "metadata": {},
   "outputs": [],
   "source": [
    "SEED = 2024"
   ]
  },
  {
   "cell_type": "code",
   "execution_count": 10,
   "id": "87c724a2",
   "metadata": {},
   "outputs": [],
   "source": [
    "y = df['StatusFalta']\n",
    "\n",
    "X = df_mod.drop('StatusFalta', axis = 1)"
   ]
  },
  {
   "cell_type": "markdown",
   "id": "9c25b741",
   "metadata": {},
   "source": [
    "## Vamos balancear e normalizar os dados"
   ]
  },
  {
   "cell_type": "code",
   "execution_count": 11,
   "id": "dad83721",
   "metadata": {},
   "outputs": [],
   "source": [
    "sm = SMOTE(random_state=SEED)\n",
    "X_balanceado, y_balanceado = sm.fit_resample(X, y)"
   ]
  },
  {
   "cell_type": "code",
   "execution_count": 12,
   "id": "3784440b",
   "metadata": {},
   "outputs": [
    {
     "data": {
      "text/plain": [
       "(176414, 17)"
      ]
     },
     "execution_count": 12,
     "metadata": {},
     "output_type": "execute_result"
    }
   ],
   "source": [
    "X_balanceado.shape"
   ]
  },
  {
   "cell_type": "code",
   "execution_count": 13,
   "id": "916bd6ab",
   "metadata": {},
   "outputs": [],
   "source": [
    "#Vamos normaliza-los \n",
    "colunas_X = X.columns\n",
    "\n",
    "min_max_scale = preprocessing.MinMaxScaler()\n",
    "X_transformado = min_max_scale.fit_transform(X_balanceado)\n",
    "X_mod = pd.DataFrame(X_transformado, columns=colunas_X)"
   ]
  },
  {
   "cell_type": "code",
   "execution_count": 14,
   "id": "a52cfae7",
   "metadata": {},
   "outputs": [],
   "source": [
    "X_treino, X_teste, y_treino, y_teste = train_test_split(X_mod, y_balanceado, test_size = .2, random_state = SEED)"
   ]
  },
  {
   "cell_type": "code",
   "execution_count": 16,
   "id": "80ad1297",
   "metadata": {},
   "outputs": [
    {
     "name": "stdout",
     "output_type": "stream",
     "text": [
      "Treino:: 141131\n",
      "Teste:: 35283\n"
     ]
    }
   ],
   "source": [
    "print('Treino::',X_treino.shape[0])\n",
    "print('Teste::',X_teste.shape[0])"
   ]
  },
  {
   "cell_type": "code",
   "execution_count": 17,
   "id": "261010b0",
   "metadata": {
    "scrolled": true
   },
   "outputs": [
    {
     "data": {
      "text/plain": [
       "0    0.500039\n",
       "1    0.499961\n",
       "Name: StatusFalta, dtype: float64"
      ]
     },
     "execution_count": 17,
     "metadata": {},
     "output_type": "execute_result"
    }
   ],
   "source": [
    "pd.concat([X_treino,y_treino], axis = 1)['StatusFalta'].value_counts(normalize = True)"
   ]
  },
  {
   "cell_type": "code",
   "execution_count": 18,
   "id": "b9d4b0cf",
   "metadata": {},
   "outputs": [
    {
     "data": {
      "text/plain": [
       "1    0.500156\n",
       "0    0.499844\n",
       "Name: StatusFalta, dtype: float64"
      ]
     },
     "execution_count": 18,
     "metadata": {},
     "output_type": "execute_result"
    }
   ],
   "source": [
    "pd.concat([X_teste,y_teste], axis = 1)['StatusFalta'].value_counts(normalize = True)"
   ]
  },
  {
   "cell_type": "markdown",
   "id": "f9d2cdab",
   "metadata": {},
   "source": [
    "## Seleçao de variáveis com os dados de treino"
   ]
  },
  {
   "cell_type": "code",
   "execution_count": 18,
   "id": "68a920e4",
   "metadata": {
    "scrolled": true
   },
   "outputs": [],
   "source": [
    "#Definindo os hyperparâmetros\n",
    "hyper_params = [{'n_features_to_select': list(range(1,len(X_treino.columns) + 1))}]\n",
    "\n",
    "#Instanciando o modelo de Regressão Logística\n",
    "rfe_select = RFE(RandomForestClassifier(), step = 1)\n",
    "\n",
    "#Random Search\n",
    "rs_select_feature = RandomizedSearchCV(estimator = rfe_select,\n",
    "                                     param_distributions = hyper_params, \n",
    "                                     scoring = 'accuracy', cv = 5,\n",
    "                                     n_iter = 15, \n",
    "                                     verbose = 1,\n",
    "                                     random_state = 2024,                           \n",
    "                                      return_train_score = True).fit(X_treino,y_treino)\n",
    "\n",
    "#Buscando o melhor modelo de seleção de variáveis\n",
    "best_model_grid_recall = rs_select_feature.best_estimator_"
   ]
  },
  {
   "cell_type": "code",
   "execution_count": 60,
   "id": "a830657a",
   "metadata": {},
   "outputs": [
    {
     "data": {
      "text/plain": [
       "RFE(estimator=RandomForestClassifier(), n_features_to_select=16)"
      ]
     },
     "execution_count": 60,
     "metadata": {},
     "output_type": "execute_result"
    }
   ],
   "source": [
    "best_model_grid_recall"
   ]
  },
  {
   "cell_type": "code",
   "execution_count": 21,
   "id": "a91d1b73",
   "metadata": {},
   "outputs": [
    {
     "data": {
      "text/plain": [
       "['Idade',\n",
       " 'Alcoolatra',\n",
       " 'Deficiente',\n",
       " 'SMS_received',\n",
       " 'TempoEspera',\n",
       " 'Feminimo',\n",
       " 'PrecipitaçãoMediaAG',\n",
       " 'TempMaxAG',\n",
       " 'TempMinAG',\n",
       " 'Chuva',\n",
       " 'Qtd_doencas',\n",
       " 'Qua',\n",
       " 'Qui',\n",
       " 'Seg',\n",
       " 'Sex',\n",
       " 'Ter']"
      ]
     },
     "execution_count": 21,
     "metadata": {},
     "output_type": "execute_result"
    }
   ],
   "source": [
    "variaveis_selecionadas = best_model_grid_recall.get_feature_names_out()"
   ]
  },
  {
   "cell_type": "markdown",
   "id": "35acacfb",
   "metadata": {},
   "source": [
    "## Das variáveis escolhidas 16 entraram\n",
    "['Idade', 'Alcoolatra', 'Deficiente', 'SMS_received', 'TempoEspera',\n",
    "       'Feminimo', 'PrecipitaçãoMediaAG', 'TempMaxAG', 'TempMinAG',\n",
    "       'Chuva', 'Qtd_doencas', 'Qua', 'Qui', 'Seg', 'Sex', 'Ter']"
   ]
  },
  {
   "cell_type": "code",
   "execution_count": 22,
   "id": "2592b323",
   "metadata": {
    "scrolled": true
   },
   "outputs": [],
   "source": [
    "X_teste = X_teste[variaveis_selecionadas]\n",
    "X_treino = X_treino[variaveis_selecionadas]"
   ]
  },
  {
   "cell_type": "markdown",
   "id": "a120faa8",
   "metadata": {},
   "source": [
    "## Regressão Logística"
   ]
  },
  {
   "cell_type": "code",
   "execution_count": 23,
   "id": "a8bdc843",
   "metadata": {},
   "outputs": [
    {
     "name": "stdout",
     "output_type": "stream",
     "text": [
      "Tempo de processamento 34.65189051628113\n"
     ]
    }
   ],
   "source": [
    "inicio = time.time()\n",
    "reg_log = LogisticRegressionCV(cv= 10, scoring='accuracy', solver='lbfgs', max_iter=1000)\n",
    "\n",
    "#Ajustando aos dados\n",
    "ajust_log = reg_log.fit(X_treino, y_treino)\n",
    "\n",
    "fim = time.time()\n",
    "print('Tempo de processamento',fim - inicio)"
   ]
  },
  {
   "cell_type": "code",
   "execution_count": 33,
   "id": "b73af6e7",
   "metadata": {},
   "outputs": [],
   "source": [
    "#Valor predito \n",
    "y_predito_treino = ajust_log.predict(X_treino)\n",
    "y_predito_teste = ajust_log.predict(X_teste)"
   ]
  },
  {
   "cell_type": "code",
   "execution_count": 34,
   "id": "402742af",
   "metadata": {},
   "outputs": [
    {
     "data": {
      "text/html": [
       "<div>\n",
       "<style scoped>\n",
       "    .dataframe tbody tr th:only-of-type {\n",
       "        vertical-align: middle;\n",
       "    }\n",
       "\n",
       "    .dataframe tbody tr th {\n",
       "        vertical-align: top;\n",
       "    }\n",
       "\n",
       "    .dataframe thead th {\n",
       "        text-align: right;\n",
       "    }\n",
       "</style>\n",
       "<table border=\"1\" class=\"dataframe\">\n",
       "  <thead>\n",
       "    <tr style=\"text-align: right;\">\n",
       "      <th></th>\n",
       "      <th>prob_0</th>\n",
       "      <th>prob_1</th>\n",
       "      <th>predito_teste</th>\n",
       "    </tr>\n",
       "  </thead>\n",
       "  <tbody>\n",
       "    <tr>\n",
       "      <th>0</th>\n",
       "      <td>0.533119</td>\n",
       "      <td>0.466881</td>\n",
       "      <td>0</td>\n",
       "    </tr>\n",
       "    <tr>\n",
       "      <th>1</th>\n",
       "      <td>0.002449</td>\n",
       "      <td>0.997551</td>\n",
       "      <td>1</td>\n",
       "    </tr>\n",
       "    <tr>\n",
       "      <th>2</th>\n",
       "      <td>0.399972</td>\n",
       "      <td>0.600028</td>\n",
       "      <td>1</td>\n",
       "    </tr>\n",
       "    <tr>\n",
       "      <th>3</th>\n",
       "      <td>0.003876</td>\n",
       "      <td>0.996124</td>\n",
       "      <td>1</td>\n",
       "    </tr>\n",
       "    <tr>\n",
       "      <th>4</th>\n",
       "      <td>0.762553</td>\n",
       "      <td>0.237447</td>\n",
       "      <td>0</td>\n",
       "    </tr>\n",
       "    <tr>\n",
       "      <th>...</th>\n",
       "      <td>...</td>\n",
       "      <td>...</td>\n",
       "      <td>...</td>\n",
       "    </tr>\n",
       "    <tr>\n",
       "      <th>35278</th>\n",
       "      <td>0.410207</td>\n",
       "      <td>0.589793</td>\n",
       "      <td>1</td>\n",
       "    </tr>\n",
       "    <tr>\n",
       "      <th>35279</th>\n",
       "      <td>0.493543</td>\n",
       "      <td>0.506457</td>\n",
       "      <td>1</td>\n",
       "    </tr>\n",
       "    <tr>\n",
       "      <th>35280</th>\n",
       "      <td>0.427488</td>\n",
       "      <td>0.572512</td>\n",
       "      <td>1</td>\n",
       "    </tr>\n",
       "    <tr>\n",
       "      <th>35281</th>\n",
       "      <td>0.480466</td>\n",
       "      <td>0.519534</td>\n",
       "      <td>1</td>\n",
       "    </tr>\n",
       "    <tr>\n",
       "      <th>35282</th>\n",
       "      <td>0.562335</td>\n",
       "      <td>0.437665</td>\n",
       "      <td>0</td>\n",
       "    </tr>\n",
       "  </tbody>\n",
       "</table>\n",
       "<p>35283 rows × 3 columns</p>\n",
       "</div>"
      ],
      "text/plain": [
       "         prob_0    prob_1  predito_teste\n",
       "0      0.533119  0.466881              0\n",
       "1      0.002449  0.997551              1\n",
       "2      0.399972  0.600028              1\n",
       "3      0.003876  0.996124              1\n",
       "4      0.762553  0.237447              0\n",
       "...         ...       ...            ...\n",
       "35278  0.410207  0.589793              1\n",
       "35279  0.493543  0.506457              1\n",
       "35280  0.427488  0.572512              1\n",
       "35281  0.480466  0.519534              1\n",
       "35282  0.562335  0.437665              0\n",
       "\n",
       "[35283 rows x 3 columns]"
      ]
     },
     "execution_count": 34,
     "metadata": {},
     "output_type": "execute_result"
    }
   ],
   "source": [
    "previsao_log = pd.DataFrame(ajust_log.predict_proba(X_teste)).rename({0: 'prob_0', 1:'prob_1'}, axis = 1)\n",
    "previsao_log[ 'predito_teste'] =  y_predito_teste\n",
    "previsao_log"
   ]
  },
  {
   "cell_type": "code",
   "execution_count": 35,
   "id": "01d5de24",
   "metadata": {
    "scrolled": false
   },
   "outputs": [
    {
     "data": {
      "text/html": [
       "<div>\n",
       "<style scoped>\n",
       "    .dataframe tbody tr th:only-of-type {\n",
       "        vertical-align: middle;\n",
       "    }\n",
       "\n",
       "    .dataframe tbody tr th {\n",
       "        vertical-align: top;\n",
       "    }\n",
       "\n",
       "    .dataframe thead th {\n",
       "        text-align: right;\n",
       "    }\n",
       "</style>\n",
       "<table border=\"1\" class=\"dataframe\">\n",
       "  <thead>\n",
       "    <tr style=\"text-align: right;\">\n",
       "      <th>col_0</th>\n",
       "      <th>0</th>\n",
       "      <th>1</th>\n",
       "    </tr>\n",
       "    <tr>\n",
       "      <th>row_0</th>\n",
       "      <th></th>\n",
       "      <th></th>\n",
       "    </tr>\n",
       "  </thead>\n",
       "  <tbody>\n",
       "    <tr>\n",
       "      <th>Real_0</th>\n",
       "      <td>13074</td>\n",
       "      <td>4562</td>\n",
       "    </tr>\n",
       "    <tr>\n",
       "      <th>Real_1</th>\n",
       "      <td>8115</td>\n",
       "      <td>9532</td>\n",
       "    </tr>\n",
       "  </tbody>\n",
       "</table>\n",
       "</div>"
      ],
      "text/plain": [
       "col_0       0     1\n",
       "row_0              \n",
       "Real_0  13074  4562\n",
       "Real_1   8115  9532"
      ]
     },
     "execution_count": 35,
     "metadata": {},
     "output_type": "execute_result"
    }
   ],
   "source": [
    "#MATRIZ DE CONFUSÃO manual TESTE\n",
    "pd.crosstab(list(y_teste.replace({0:'Real_0', 1:'Real_1'})), y_predito_teste)"
   ]
  },
  {
   "cell_type": "code",
   "execution_count": 36,
   "id": "1082d696",
   "metadata": {
    "scrolled": true
   },
   "outputs": [
    {
     "data": {
      "text/html": [
       "<div>\n",
       "<style scoped>\n",
       "    .dataframe tbody tr th:only-of-type {\n",
       "        vertical-align: middle;\n",
       "    }\n",
       "\n",
       "    .dataframe tbody tr th {\n",
       "        vertical-align: top;\n",
       "    }\n",
       "\n",
       "    .dataframe thead th {\n",
       "        text-align: right;\n",
       "    }\n",
       "</style>\n",
       "<table border=\"1\" class=\"dataframe\">\n",
       "  <thead>\n",
       "    <tr style=\"text-align: right;\">\n",
       "      <th></th>\n",
       "      <th>Acurácia</th>\n",
       "      <th>Precisão</th>\n",
       "      <th>Sensibilidade</th>\n",
       "      <th>Kappa</th>\n",
       "      <th>roc_auc</th>\n",
       "    </tr>\n",
       "  </thead>\n",
       "  <tbody>\n",
       "    <tr>\n",
       "      <th>Logística_teste</th>\n",
       "      <td>0.640705</td>\n",
       "      <td>0.676316</td>\n",
       "      <td>0.540148</td>\n",
       "      <td>0.281455</td>\n",
       "      <td>0.640737</td>\n",
       "    </tr>\n",
       "    <tr>\n",
       "      <th>Logística_treino</th>\n",
       "      <td>0.640851</td>\n",
       "      <td>0.678192</td>\n",
       "      <td>0.535969</td>\n",
       "      <td>0.281691</td>\n",
       "      <td>0.640843</td>\n",
       "    </tr>\n",
       "  </tbody>\n",
       "</table>\n",
       "</div>"
      ],
      "text/plain": [
       "                  Acurácia  Precisão  Sensibilidade     Kappa   roc_auc\n",
       "Logística_teste   0.640705  0.676316       0.540148  0.281455  0.640737\n",
       "Logística_treino  0.640851  0.678192       0.535969  0.281691  0.640843"
      ]
     },
     "execution_count": 36,
     "metadata": {},
     "output_type": "execute_result"
    }
   ],
   "source": [
    "#Medidas de performance\n",
    "#accuracy_score\n",
    "\n",
    "medidas_log = pd.DataFrame({'Acurácia':[accuracy_score(y_teste, y_predito_teste), accuracy_score(y_treino, y_predito_treino)],\n",
    "                            'Precisão':[precision_score(y_teste, y_predito_teste), precision_score(y_treino, y_predito_treino)], \n",
    "                            'Sensibilidade':[recall_score(y_teste, y_predito_teste), recall_score(y_treino, y_predito_treino)],\n",
    "                            'Kappa':[cohen_kappa_score(y_teste, y_predito_teste), cohen_kappa_score(y_treino, y_predito_treino)],\n",
    "                            'roc_auc':[roc_auc_score(y_teste, y_predito_teste), roc_auc_score(y_treino, y_predito_treino)]\n",
    "                           },\n",
    "                           index=['Logística_teste', 'Logística_treino'])\n",
    "medidas_log "
   ]
  },
  {
   "cell_type": "markdown",
   "id": "b3c9a0c9",
   "metadata": {},
   "source": [
    "## Árvore de Decisão\n",
    "\n",
    "Arvore livre foi até 43 de profundidade, mas overfitou "
   ]
  },
  {
   "cell_type": "code",
   "execution_count": 96,
   "id": "22356909",
   "metadata": {},
   "outputs": [],
   "source": [
    "arvore_livre = DecisionTreeClassifier(random_state = SEED)\n",
    "\n",
    "#Ajustando aos dados\n",
    "ajust_arvore = arvore_livre.fit(X_treino, y_treino)"
   ]
  },
  {
   "cell_type": "code",
   "execution_count": 97,
   "id": "13555fbb",
   "metadata": {},
   "outputs": [],
   "source": [
    "y_predito_teste = ajust_arvore.predict(X_teste)\n",
    "y_predito_treino = ajust_arvore.predict(X_treino)"
   ]
  },
  {
   "cell_type": "code",
   "execution_count": 98,
   "id": "d898a2ee",
   "metadata": {},
   "outputs": [
    {
     "data": {
      "text/html": [
       "<div>\n",
       "<style scoped>\n",
       "    .dataframe tbody tr th:only-of-type {\n",
       "        vertical-align: middle;\n",
       "    }\n",
       "\n",
       "    .dataframe tbody tr th {\n",
       "        vertical-align: top;\n",
       "    }\n",
       "\n",
       "    .dataframe thead th {\n",
       "        text-align: right;\n",
       "    }\n",
       "</style>\n",
       "<table border=\"1\" class=\"dataframe\">\n",
       "  <thead>\n",
       "    <tr style=\"text-align: right;\">\n",
       "      <th></th>\n",
       "      <th>Acurácia</th>\n",
       "      <th>Precisão</th>\n",
       "      <th>Sensibilidade</th>\n",
       "      <th>Kappa</th>\n",
       "      <th>roc_auc</th>\n",
       "    </tr>\n",
       "  </thead>\n",
       "  <tbody>\n",
       "    <tr>\n",
       "      <th>Árvore_teste</th>\n",
       "      <td>0.790891</td>\n",
       "      <td>0.785551</td>\n",
       "      <td>0.800419</td>\n",
       "      <td>0.581779</td>\n",
       "      <td>0.790888</td>\n",
       "    </tr>\n",
       "    <tr>\n",
       "      <th>Árvore_treino</th>\n",
       "      <td>0.927443</td>\n",
       "      <td>0.936785</td>\n",
       "      <td>0.916738</td>\n",
       "      <td>0.854886</td>\n",
       "      <td>0.927442</td>\n",
       "    </tr>\n",
       "  </tbody>\n",
       "</table>\n",
       "</div>"
      ],
      "text/plain": [
       "               Acurácia  Precisão  Sensibilidade     Kappa   roc_auc\n",
       "Árvore_teste   0.790891  0.785551       0.800419  0.581779  0.790888\n",
       "Árvore_treino  0.927443  0.936785       0.916738  0.854886  0.927442"
      ]
     },
     "execution_count": 98,
     "metadata": {},
     "output_type": "execute_result"
    }
   ],
   "source": [
    "#Medidas de performance\n",
    "#accuracy_score\n",
    "\n",
    "medidas_arvore = pd.DataFrame({'Acurácia':[accuracy_score(y_teste, y_predito_teste), accuracy_score(y_treino, y_predito_treino)],\n",
    "                            'Precisão':[precision_score(y_teste, y_predito_teste), precision_score(y_treino, y_predito_treino)], \n",
    "                            'Sensibilidade':[recall_score(y_teste, y_predito_teste), recall_score(y_treino, y_predito_treino)],\n",
    "                            'Kappa':[cohen_kappa_score(y_teste, y_predito_teste), cohen_kappa_score(y_treino, y_predito_treino)],\n",
    "                            'roc_auc':[roc_auc_score(y_teste, y_predito_teste), roc_auc_score(y_treino, y_predito_treino)]\n",
    "                           },\n",
    "                           index=['Árvore_teste', 'Árvore_treino'])\n",
    "medidas_arvore "
   ]
  },
  {
   "cell_type": "code",
   "execution_count": 30,
   "id": "a18403ea",
   "metadata": {},
   "outputs": [
    {
     "name": "stdout",
     "output_type": "stream",
     "text": [
      "Profundidade máxima: 43\n"
     ]
    }
   ],
   "source": [
    "print('Profundidade máxima:',ajust_arvore.get_depth())"
   ]
  },
  {
   "cell_type": "code",
   "execution_count": 99,
   "id": "a1ff7dd7",
   "metadata": {
    "scrolled": true
   },
   "outputs": [
    {
     "name": "stdout",
     "output_type": "stream",
     "text": [
      "Profundidades testadas: [20, 21, 22, 23, 24, 25, 26, 27, 28, 29, 30, 31, 32, 33, 34, 35, 36, 37, 38, 39]\n"
     ]
    }
   ],
   "source": [
    "print('Profundidades testadas:',list(range(20,40))) # Na primeira versão deu 50 e já super ajustou"
   ]
  },
  {
   "cell_type": "code",
   "execution_count": 108,
   "id": "fa2a80c4",
   "metadata": {},
   "outputs": [
    {
     "name": "stdout",
     "output_type": "stream",
     "text": [
      "Fitting 5 folds for each of 8 candidates, totalling 40 fits\n"
     ]
    },
    {
     "data": {
      "text/plain": [
       "DecisionTreeClassifier(max_depth=19, random_state=9704)"
      ]
     },
     "execution_count": 108,
     "metadata": {},
     "output_type": "execute_result"
    }
   ],
   "source": [
    "#Grrid Search para a profundidade da árvore \n",
    "\n",
    "hyper_params = [{'max_depth': list(range(10,20))}]\n",
    "\n",
    "\n",
    "#Random Search\n",
    "rs_select_feature = RandomizedSearchCV(estimator = arvore_livre,\n",
    "                                     param_distributions = hyper_params, \n",
    "                                     scoring = 'accuracy', cv = 5,\n",
    "                                     n_iter = 8, \n",
    "                                     verbose = 1,\n",
    "                                     random_state = 2024,                           \n",
    "                                     return_train_score = True).fit(X_treino,y_treino)\n",
    "\n",
    "#Buscando o melhor modelo de seleção de variáveis\n",
    "best_model_grid_recall = rs_select_feature.best_estimator_\n",
    "best_model_grid_recall"
   ]
  },
  {
   "cell_type": "code",
   "execution_count": 116,
   "id": "64b619e6",
   "metadata": {},
   "outputs": [
    {
     "data": {
      "text/html": [
       "<div>\n",
       "<style scoped>\n",
       "    .dataframe tbody tr th:only-of-type {\n",
       "        vertical-align: middle;\n",
       "    }\n",
       "\n",
       "    .dataframe tbody tr th {\n",
       "        vertical-align: top;\n",
       "    }\n",
       "\n",
       "    .dataframe thead th {\n",
       "        text-align: right;\n",
       "    }\n",
       "</style>\n",
       "<table border=\"1\" class=\"dataframe\">\n",
       "  <thead>\n",
       "    <tr style=\"text-align: right;\">\n",
       "      <th></th>\n",
       "      <th>params</th>\n",
       "      <th>mean_test_score</th>\n",
       "      <th>mean_train_score</th>\n",
       "    </tr>\n",
       "  </thead>\n",
       "  <tbody>\n",
       "    <tr>\n",
       "      <th>0</th>\n",
       "      <td>{'max_depth': 12}</td>\n",
       "      <td>0.721089</td>\n",
       "      <td>0.742162</td>\n",
       "    </tr>\n",
       "    <tr>\n",
       "      <th>1</th>\n",
       "      <td>{'max_depth': 17}</td>\n",
       "      <td>0.754739</td>\n",
       "      <td>0.823104</td>\n",
       "    </tr>\n",
       "    <tr>\n",
       "      <th>2</th>\n",
       "      <td>{'max_depth': 15}</td>\n",
       "      <td>0.741496</td>\n",
       "      <td>0.788234</td>\n",
       "    </tr>\n",
       "    <tr>\n",
       "      <th>3</th>\n",
       "      <td>{'max_depth': 16}</td>\n",
       "      <td>0.748149</td>\n",
       "      <td>0.805619</td>\n",
       "    </tr>\n",
       "    <tr>\n",
       "      <th>4</th>\n",
       "      <td>{'max_depth': 11}</td>\n",
       "      <td>0.713366</td>\n",
       "      <td>0.729744</td>\n",
       "    </tr>\n",
       "    <tr>\n",
       "      <th>5</th>\n",
       "      <td>{'max_depth': 14}</td>\n",
       "      <td>0.735501</td>\n",
       "      <td>0.771861</td>\n",
       "    </tr>\n",
       "    <tr>\n",
       "      <th>6</th>\n",
       "      <td>{'max_depth': 13}</td>\n",
       "      <td>0.726864</td>\n",
       "      <td>0.755922</td>\n",
       "    </tr>\n",
       "    <tr>\n",
       "      <th>7</th>\n",
       "      <td>{'max_depth': 19}</td>\n",
       "      <td>0.765275</td>\n",
       "      <td>0.857336</td>\n",
       "    </tr>\n",
       "  </tbody>\n",
       "</table>\n",
       "</div>"
      ],
      "text/plain": [
       "              params  mean_test_score  mean_train_score\n",
       "0  {'max_depth': 12}         0.721089          0.742162\n",
       "1  {'max_depth': 17}         0.754739          0.823104\n",
       "2  {'max_depth': 15}         0.741496          0.788234\n",
       "3  {'max_depth': 16}         0.748149          0.805619\n",
       "4  {'max_depth': 11}         0.713366          0.729744\n",
       "5  {'max_depth': 14}         0.735501          0.771861\n",
       "6  {'max_depth': 13}         0.726864          0.755922\n",
       "7  {'max_depth': 19}         0.765275          0.857336"
      ]
     },
     "execution_count": 116,
     "metadata": {},
     "output_type": "execute_result"
    }
   ],
   "source": [
    "pd.DataFrame(rs_select_feature.cv_results_)[['params','mean_test_score', 'mean_train_score']]"
   ]
  },
  {
   "cell_type": "code",
   "execution_count": 26,
   "id": "b8ce7832",
   "metadata": {},
   "outputs": [
    {
     "name": "stdout",
     "output_type": "stream",
     "text": [
      "Tempo de processamento: 0.5609230995178223\n"
     ]
    }
   ],
   "source": [
    "inicio = time.time()\n",
    "mod_arvore = DecisionTreeClassifier(max_depth=15, random_state = SEED)\n",
    "\n",
    "#Ajustando aos dados\n",
    "mod_arvore = mod_arvore.fit(X_treino, y_treino)\n",
    "fim = time.time()\n",
    "\n",
    "print('Tempo de processamento:', fim -inicio )\n",
    "\n",
    "#Predição\n",
    "y_predito_teste = mod_arvore.predict(X_teste)\n",
    "y_predito_treino = mod_arvore.predict(X_treino)"
   ]
  },
  {
   "cell_type": "code",
   "execution_count": 38,
   "id": "a4647d28",
   "metadata": {},
   "outputs": [
    {
     "data": {
      "text/html": [
       "<div>\n",
       "<style scoped>\n",
       "    .dataframe tbody tr th:only-of-type {\n",
       "        vertical-align: middle;\n",
       "    }\n",
       "\n",
       "    .dataframe tbody tr th {\n",
       "        vertical-align: top;\n",
       "    }\n",
       "\n",
       "    .dataframe thead th {\n",
       "        text-align: right;\n",
       "    }\n",
       "</style>\n",
       "<table border=\"1\" class=\"dataframe\">\n",
       "  <thead>\n",
       "    <tr style=\"text-align: right;\">\n",
       "      <th></th>\n",
       "      <th>Acurácia</th>\n",
       "      <th>Precisão</th>\n",
       "      <th>Sensibilidade</th>\n",
       "      <th>Kappa</th>\n",
       "      <th>roc_auc</th>\n",
       "    </tr>\n",
       "  </thead>\n",
       "  <tbody>\n",
       "    <tr>\n",
       "      <th>TreeTunada_teste</th>\n",
       "      <td>0.742596</td>\n",
       "      <td>0.726025</td>\n",
       "      <td>0.779509</td>\n",
       "      <td>0.485179</td>\n",
       "      <td>0.742584</td>\n",
       "    </tr>\n",
       "    <tr>\n",
       "      <th>TreeTunada_treino</th>\n",
       "      <td>0.782436</td>\n",
       "      <td>0.762761</td>\n",
       "      <td>0.819827</td>\n",
       "      <td>0.564875</td>\n",
       "      <td>0.782439</td>\n",
       "    </tr>\n",
       "  </tbody>\n",
       "</table>\n",
       "</div>"
      ],
      "text/plain": [
       "                   Acurácia  Precisão  Sensibilidade     Kappa   roc_auc\n",
       "TreeTunada_teste   0.742596  0.726025       0.779509  0.485179  0.742584\n",
       "TreeTunada_treino  0.782436  0.762761       0.819827  0.564875  0.782439"
      ]
     },
     "execution_count": 38,
     "metadata": {},
     "output_type": "execute_result"
    }
   ],
   "source": [
    "#Medidas de performance\n",
    "#accuracy_score\n",
    "\n",
    "medidas_arvore = pd.DataFrame({'Acurácia':[accuracy_score(y_teste, y_predito_teste), accuracy_score(y_treino, y_predito_treino)],\n",
    "                            'Precisão':[precision_score(y_teste, y_predito_teste), precision_score(y_treino, y_predito_treino)], \n",
    "                            'Sensibilidade':[recall_score(y_teste, y_predito_teste), recall_score(y_treino, y_predito_treino)],\n",
    "                            'Kappa':[cohen_kappa_score(y_teste, y_predito_teste), cohen_kappa_score(y_treino, y_predito_treino)],\n",
    "                            'roc_auc':[roc_auc_score(y_teste, y_predito_teste), roc_auc_score(y_treino, y_predito_treino)]\n",
    "                           },\n",
    "                           index=['TreeTunada_teste', 'TreeTunada_treino'])\n",
    "medidas_arvore "
   ]
  },
  {
   "cell_type": "markdown",
   "id": "8b8a1df3",
   "metadata": {},
   "source": [
    "## Naive Bayes"
   ]
  },
  {
   "cell_type": "code",
   "execution_count": 28,
   "id": "1afc8163",
   "metadata": {},
   "outputs": [],
   "source": [
    "gausian = GaussianNB() \n",
    "multi = MultinomialNB() #modelo escolhido\n",
    "CNB = ComplementNB()"
   ]
  },
  {
   "cell_type": "code",
   "execution_count": 41,
   "id": "d0f8b24b",
   "metadata": {},
   "outputs": [
    {
     "name": "stdout",
     "output_type": "stream",
     "text": [
      "Gausian: 0.5544635721438134\n",
      "multi: 0.6050052804111847\n",
      "CNB: 0.6050052806622093\n"
     ]
    }
   ],
   "source": [
    "print('Gausian:',cross_val_score(gausian, X_treino, y_treino,scoring='accuracy').mean())\n",
    "print('multi:',cross_val_score(multi, X_treino, y_treino,scoring='accuracy').mean())\n",
    "print('CNB:',cross_val_score(CNB, X_treino, y_treino,scoring='accuracy').mean())\n"
   ]
  },
  {
   "cell_type": "code",
   "execution_count": 29,
   "id": "ede13116",
   "metadata": {},
   "outputs": [
    {
     "name": "stdout",
     "output_type": "stream",
     "text": [
      "Tempo de processamento:  0.03882098197937012\n"
     ]
    }
   ],
   "source": [
    "#Ajustando aos dados com o modelo menos pior\n",
    "inicio = time.time()\n",
    "multi = MultinomialNB() #modelo escolhido\n",
    "ajust_naive = multi.fit(X_treino, y_treino)\n",
    "fim = time.time()\n",
    "\n",
    "print('Tempo de processamento: ', fim - inicio)"
   ]
  },
  {
   "cell_type": "code",
   "execution_count": 43,
   "id": "3b001736",
   "metadata": {},
   "outputs": [],
   "source": [
    "y_predito_teste = ajust_naive.predict(X_teste)\n",
    "y_predito_treino = ajust_naive.predict(X_treino)"
   ]
  },
  {
   "cell_type": "code",
   "execution_count": 44,
   "id": "4a66de0b",
   "metadata": {},
   "outputs": [
    {
     "data": {
      "text/html": [
       "<div>\n",
       "<style scoped>\n",
       "    .dataframe tbody tr th:only-of-type {\n",
       "        vertical-align: middle;\n",
       "    }\n",
       "\n",
       "    .dataframe tbody tr th {\n",
       "        vertical-align: top;\n",
       "    }\n",
       "\n",
       "    .dataframe thead th {\n",
       "        text-align: right;\n",
       "    }\n",
       "</style>\n",
       "<table border=\"1\" class=\"dataframe\">\n",
       "  <thead>\n",
       "    <tr style=\"text-align: right;\">\n",
       "      <th></th>\n",
       "      <th>Acurácia</th>\n",
       "      <th>Precisão</th>\n",
       "      <th>Sensibilidade</th>\n",
       "      <th>Kappa</th>\n",
       "      <th>roc_auc</th>\n",
       "    </tr>\n",
       "  </thead>\n",
       "  <tbody>\n",
       "    <tr>\n",
       "      <th>Naive_teste</th>\n",
       "      <td>0.603293</td>\n",
       "      <td>0.616272</td>\n",
       "      <td>0.548138</td>\n",
       "      <td>0.206614</td>\n",
       "      <td>0.603311</td>\n",
       "    </tr>\n",
       "    <tr>\n",
       "      <th>Naive_treino</th>\n",
       "      <td>0.605225</td>\n",
       "      <td>0.616995</td>\n",
       "      <td>0.554762</td>\n",
       "      <td>0.210444</td>\n",
       "      <td>0.605221</td>\n",
       "    </tr>\n",
       "  </tbody>\n",
       "</table>\n",
       "</div>"
      ],
      "text/plain": [
       "              Acurácia  Precisão  Sensibilidade     Kappa   roc_auc\n",
       "Naive_teste   0.603293  0.616272       0.548138  0.206614  0.603311\n",
       "Naive_treino  0.605225  0.616995       0.554762  0.210444  0.605221"
      ]
     },
     "execution_count": 44,
     "metadata": {},
     "output_type": "execute_result"
    }
   ],
   "source": [
    "#Medidas de performance\n",
    "#accuracy_score\n",
    "\n",
    "medidas_naive = pd.DataFrame({'Acurácia':[accuracy_score(y_teste, y_predito_teste), accuracy_score(y_treino, y_predito_treino)],\n",
    "                            'Precisão':[precision_score(y_teste, y_predito_teste), precision_score(y_treino, y_predito_treino)], \n",
    "                            'Sensibilidade':[recall_score(y_teste, y_predito_teste), recall_score(y_treino, y_predito_treino)],\n",
    "                            'Kappa':[cohen_kappa_score(y_teste, y_predito_teste), cohen_kappa_score(y_treino, y_predito_treino)],\n",
    "                            'roc_auc':[roc_auc_score(y_teste, y_predito_teste), roc_auc_score(y_treino, y_predito_treino)]\n",
    "                           },\n",
    "                           index=['Naive_teste', 'Naive_treino'])\n",
    "medidas_naive "
   ]
  },
  {
   "cell_type": "markdown",
   "id": "b4721353",
   "metadata": {},
   "source": [
    "## Random Florest"
   ]
  },
  {
   "cell_type": "code",
   "execution_count": 30,
   "id": "896ad0f9",
   "metadata": {},
   "outputs": [],
   "source": [
    "floresta = RandomForestClassifier(random_state = SEED)\n",
    "ajust_arvore = floresta.fit(X_treino, y_treino)"
   ]
  },
  {
   "cell_type": "code",
   "execution_count": 39,
   "id": "40f37471",
   "metadata": {},
   "outputs": [],
   "source": [
    "y_predito_teste = ajust_arvore.predict(X_teste)\n",
    "y_predito_treino = ajust_arvore.predict(X_treino)"
   ]
  },
  {
   "cell_type": "code",
   "execution_count": 40,
   "id": "04f73abf",
   "metadata": {},
   "outputs": [
    {
     "data": {
      "text/html": [
       "<div>\n",
       "<style scoped>\n",
       "    .dataframe tbody tr th:only-of-type {\n",
       "        vertical-align: middle;\n",
       "    }\n",
       "\n",
       "    .dataframe tbody tr th {\n",
       "        vertical-align: top;\n",
       "    }\n",
       "\n",
       "    .dataframe thead th {\n",
       "        text-align: right;\n",
       "    }\n",
       "</style>\n",
       "<table border=\"1\" class=\"dataframe\">\n",
       "  <thead>\n",
       "    <tr style=\"text-align: right;\">\n",
       "      <th></th>\n",
       "      <th>Acurácia</th>\n",
       "      <th>Precisão</th>\n",
       "      <th>Sensibilidade</th>\n",
       "      <th>Kappa</th>\n",
       "      <th>roc_auc</th>\n",
       "    </tr>\n",
       "  </thead>\n",
       "  <tbody>\n",
       "    <tr>\n",
       "      <th>RandomForest_teste</th>\n",
       "      <td>0.808633</td>\n",
       "      <td>0.797077</td>\n",
       "      <td>0.828243</td>\n",
       "      <td>0.617261</td>\n",
       "      <td>0.808627</td>\n",
       "    </tr>\n",
       "    <tr>\n",
       "      <th>RandomForest_treino</th>\n",
       "      <td>0.927422</td>\n",
       "      <td>0.920826</td>\n",
       "      <td>0.935247</td>\n",
       "      <td>0.854844</td>\n",
       "      <td>0.927423</td>\n",
       "    </tr>\n",
       "  </tbody>\n",
       "</table>\n",
       "</div>"
      ],
      "text/plain": [
       "                     Acurácia  Precisão  Sensibilidade     Kappa   roc_auc\n",
       "RandomForest_teste   0.808633  0.797077       0.828243  0.617261  0.808627\n",
       "RandomForest_treino  0.927422  0.920826       0.935247  0.854844  0.927423"
      ]
     },
     "execution_count": 40,
     "metadata": {},
     "output_type": "execute_result"
    }
   ],
   "source": [
    "medidas_rf = pd.DataFrame({'Acurácia':[accuracy_score(y_teste, y_predito_teste), accuracy_score(y_treino, y_predito_treino)],\n",
    "                            'Precisão':[precision_score(y_teste, y_predito_teste), precision_score(y_treino, y_predito_treino)], \n",
    "                            'Sensibilidade':[recall_score(y_teste, y_predito_teste), recall_score(y_treino, y_predito_treino)],\n",
    "                            'Kappa':[cohen_kappa_score(y_teste, y_predito_teste), cohen_kappa_score(y_treino, y_predito_treino)],\n",
    "                            'roc_auc':[roc_auc_score(y_teste, y_predito_teste), roc_auc_score(y_treino, y_predito_treino)]\n",
    "                           },\n",
    "                           index=['RandomForest_teste', 'RandomForest_treino'])\n",
    "medidas_rf "
   ]
  },
  {
   "cell_type": "markdown",
   "id": "0d663a65",
   "metadata": {},
   "source": [
    "### Tunando a floresta"
   ]
  },
  {
   "cell_type": "code",
   "execution_count": 99,
   "id": "6c6fcf44",
   "metadata": {},
   "outputs": [],
   "source": [
    "hyper_florest = { 'n_estimators': list(range(300, 550, 100)),\n",
    "                 'max_features': ['sqrt', 'log2'], \n",
    "                 'max_depth' : list(range(13,17))\n",
    "    \n",
    "}"
   ]
  },
  {
   "cell_type": "code",
   "execution_count": 101,
   "id": "79f11940",
   "metadata": {},
   "outputs": [
    {
     "name": "stdout",
     "output_type": "stream",
     "text": [
      "Combinações possíveis:  24\n"
     ]
    }
   ],
   "source": [
    "tamanho = 1\n",
    "for valores in hyper_florest.values():\n",
    "    tamanho = tamanho * len(valores) \n",
    "    \n",
    "print('Combinações possíveis: ',tamanho)"
   ]
  },
  {
   "cell_type": "code",
   "execution_count": 102,
   "id": "3357bfeb",
   "metadata": {
    "scrolled": true
   },
   "outputs": [
    {
     "name": "stdout",
     "output_type": "stream",
     "text": [
      "Fitting 5 folds for each of 20 candidates, totalling 100 fits\n"
     ]
    }
   ],
   "source": [
    "rs_floresta = RandomizedSearchCV( estimator = floresta, \n",
    "                                 param_distributions = hyper_florest, \n",
    "                                 scoring = 'accuracy', \n",
    "                                 n_jobs = -1, \n",
    "                                 cv = 5,\n",
    "                                 n_iter = 20,\n",
    "                                 return_train_score = True,\n",
    "                                 verbose = 1,\n",
    "                                 random_state = 2024,\n",
    "                                 refit = 'KS'\n",
    ").fit(X_treino, y_treino)"
   ]
  },
  {
   "cell_type": "code",
   "execution_count": 104,
   "id": "3158af08",
   "metadata": {},
   "outputs": [
    {
     "data": {
      "text/html": [
       "<div>\n",
       "<style scoped>\n",
       "    .dataframe tbody tr th:only-of-type {\n",
       "        vertical-align: middle;\n",
       "    }\n",
       "\n",
       "    .dataframe tbody tr th {\n",
       "        vertical-align: top;\n",
       "    }\n",
       "\n",
       "    .dataframe thead th {\n",
       "        text-align: right;\n",
       "    }\n",
       "</style>\n",
       "<table border=\"1\" class=\"dataframe\">\n",
       "  <thead>\n",
       "    <tr style=\"text-align: right;\">\n",
       "      <th></th>\n",
       "      <th>param_n_estimators</th>\n",
       "      <th>param_max_features</th>\n",
       "      <th>param_max_depth</th>\n",
       "      <th>mean_test_score</th>\n",
       "      <th>mean_train_score</th>\n",
       "    </tr>\n",
       "  </thead>\n",
       "  <tbody>\n",
       "    <tr>\n",
       "      <th>2</th>\n",
       "      <td>500</td>\n",
       "      <td>log2</td>\n",
       "      <td>16</td>\n",
       "      <td>0.775159</td>\n",
       "      <td>0.832188</td>\n",
       "    </tr>\n",
       "    <tr>\n",
       "      <th>4</th>\n",
       "      <td>500</td>\n",
       "      <td>sqrt</td>\n",
       "      <td>16</td>\n",
       "      <td>0.775159</td>\n",
       "      <td>0.832188</td>\n",
       "    </tr>\n",
       "    <tr>\n",
       "      <th>5</th>\n",
       "      <td>400</td>\n",
       "      <td>sqrt</td>\n",
       "      <td>16</td>\n",
       "      <td>0.775138</td>\n",
       "      <td>0.832145</td>\n",
       "    </tr>\n",
       "    <tr>\n",
       "      <th>14</th>\n",
       "      <td>300</td>\n",
       "      <td>log2</td>\n",
       "      <td>16</td>\n",
       "      <td>0.775067</td>\n",
       "      <td>0.832195</td>\n",
       "    </tr>\n",
       "    <tr>\n",
       "      <th>11</th>\n",
       "      <td>300</td>\n",
       "      <td>sqrt</td>\n",
       "      <td>16</td>\n",
       "      <td>0.775067</td>\n",
       "      <td>0.832195</td>\n",
       "    </tr>\n",
       "    <tr>\n",
       "      <th>3</th>\n",
       "      <td>400</td>\n",
       "      <td>sqrt</td>\n",
       "      <td>15</td>\n",
       "      <td>0.767507</td>\n",
       "      <td>0.812623</td>\n",
       "    </tr>\n",
       "    <tr>\n",
       "      <th>9</th>\n",
       "      <td>400</td>\n",
       "      <td>log2</td>\n",
       "      <td>15</td>\n",
       "      <td>0.767507</td>\n",
       "      <td>0.812623</td>\n",
       "    </tr>\n",
       "    <tr>\n",
       "      <th>12</th>\n",
       "      <td>300</td>\n",
       "      <td>sqrt</td>\n",
       "      <td>15</td>\n",
       "      <td>0.767507</td>\n",
       "      <td>0.812653</td>\n",
       "    </tr>\n",
       "    <tr>\n",
       "      <th>7</th>\n",
       "      <td>300</td>\n",
       "      <td>log2</td>\n",
       "      <td>15</td>\n",
       "      <td>0.767507</td>\n",
       "      <td>0.812653</td>\n",
       "    </tr>\n",
       "    <tr>\n",
       "      <th>0</th>\n",
       "      <td>500</td>\n",
       "      <td>log2</td>\n",
       "      <td>15</td>\n",
       "      <td>0.767124</td>\n",
       "      <td>0.812407</td>\n",
       "    </tr>\n",
       "    <tr>\n",
       "      <th>1</th>\n",
       "      <td>500</td>\n",
       "      <td>sqrt</td>\n",
       "      <td>15</td>\n",
       "      <td>0.767124</td>\n",
       "      <td>0.812407</td>\n",
       "    </tr>\n",
       "    <tr>\n",
       "      <th>16</th>\n",
       "      <td>400</td>\n",
       "      <td>log2</td>\n",
       "      <td>14</td>\n",
       "      <td>0.759259</td>\n",
       "      <td>0.793476</td>\n",
       "    </tr>\n",
       "    <tr>\n",
       "      <th>10</th>\n",
       "      <td>400</td>\n",
       "      <td>sqrt</td>\n",
       "      <td>14</td>\n",
       "      <td>0.759259</td>\n",
       "      <td>0.793476</td>\n",
       "    </tr>\n",
       "    <tr>\n",
       "      <th>6</th>\n",
       "      <td>500</td>\n",
       "      <td>log2</td>\n",
       "      <td>14</td>\n",
       "      <td>0.759202</td>\n",
       "      <td>0.793461</td>\n",
       "    </tr>\n",
       "    <tr>\n",
       "      <th>8</th>\n",
       "      <td>300</td>\n",
       "      <td>sqrt</td>\n",
       "      <td>14</td>\n",
       "      <td>0.759011</td>\n",
       "      <td>0.793743</td>\n",
       "    </tr>\n",
       "    <tr>\n",
       "      <th>19</th>\n",
       "      <td>300</td>\n",
       "      <td>log2</td>\n",
       "      <td>14</td>\n",
       "      <td>0.759011</td>\n",
       "      <td>0.793743</td>\n",
       "    </tr>\n",
       "    <tr>\n",
       "      <th>18</th>\n",
       "      <td>400</td>\n",
       "      <td>sqrt</td>\n",
       "      <td>13</td>\n",
       "      <td>0.749942</td>\n",
       "      <td>0.775274</td>\n",
       "    </tr>\n",
       "    <tr>\n",
       "      <th>13</th>\n",
       "      <td>500</td>\n",
       "      <td>log2</td>\n",
       "      <td>13</td>\n",
       "      <td>0.749687</td>\n",
       "      <td>0.775113</td>\n",
       "    </tr>\n",
       "    <tr>\n",
       "      <th>15</th>\n",
       "      <td>500</td>\n",
       "      <td>sqrt</td>\n",
       "      <td>13</td>\n",
       "      <td>0.749687</td>\n",
       "      <td>0.775113</td>\n",
       "    </tr>\n",
       "    <tr>\n",
       "      <th>17</th>\n",
       "      <td>300</td>\n",
       "      <td>log2</td>\n",
       "      <td>13</td>\n",
       "      <td>0.749679</td>\n",
       "      <td>0.775219</td>\n",
       "    </tr>\n",
       "  </tbody>\n",
       "</table>\n",
       "</div>"
      ],
      "text/plain": [
       "   param_n_estimators param_max_features param_max_depth  mean_test_score  \\\n",
       "2                 500               log2              16         0.775159   \n",
       "4                 500               sqrt              16         0.775159   \n",
       "5                 400               sqrt              16         0.775138   \n",
       "14                300               log2              16         0.775067   \n",
       "11                300               sqrt              16         0.775067   \n",
       "3                 400               sqrt              15         0.767507   \n",
       "9                 400               log2              15         0.767507   \n",
       "12                300               sqrt              15         0.767507   \n",
       "7                 300               log2              15         0.767507   \n",
       "0                 500               log2              15         0.767124   \n",
       "1                 500               sqrt              15         0.767124   \n",
       "16                400               log2              14         0.759259   \n",
       "10                400               sqrt              14         0.759259   \n",
       "6                 500               log2              14         0.759202   \n",
       "8                 300               sqrt              14         0.759011   \n",
       "19                300               log2              14         0.759011   \n",
       "18                400               sqrt              13         0.749942   \n",
       "13                500               log2              13         0.749687   \n",
       "15                500               sqrt              13         0.749687   \n",
       "17                300               log2              13         0.749679   \n",
       "\n",
       "    mean_train_score  \n",
       "2           0.832188  \n",
       "4           0.832188  \n",
       "5           0.832145  \n",
       "14          0.832195  \n",
       "11          0.832195  \n",
       "3           0.812623  \n",
       "9           0.812623  \n",
       "12          0.812653  \n",
       "7           0.812653  \n",
       "0           0.812407  \n",
       "1           0.812407  \n",
       "16          0.793476  \n",
       "10          0.793476  \n",
       "6           0.793461  \n",
       "8           0.793743  \n",
       "19          0.793743  \n",
       "18          0.775274  \n",
       "13          0.775113  \n",
       "15          0.775113  \n",
       "17          0.775219  "
      ]
     },
     "execution_count": 104,
     "metadata": {},
     "output_type": "execute_result"
    }
   ],
   "source": [
    "pd.DataFrame(rs_floresta.cv_results_)[['param_n_estimators', 'param_max_features', 'param_max_depth', 'mean_test_score', 'mean_train_score']].sort_values('mean_test_score', ascending = False)"
   ]
  },
  {
   "cell_type": "code",
   "execution_count": 35,
   "id": "c345d014",
   "metadata": {},
   "outputs": [
    {
     "name": "stdout",
     "output_type": "stream",
     "text": [
      "Tempo de processamento:  57.65796422958374\n"
     ]
    }
   ],
   "source": [
    "tunada_floresta = RandomForestClassifier(random_state = SEED, \n",
    "                                         n_estimators = 400,\n",
    "                                         max_features = 'log2', \n",
    "                                         max_depth = 14)\n",
    "inicio = time.time()\n",
    "ajust_arvore = tunada_floresta.fit(X_treino, y_treino)\n",
    "fim = time.time()\n",
    "print('Tempo de processamento: ', fim - inicio)"
   ]
  },
  {
   "cell_type": "code",
   "execution_count": 21,
   "id": "7fa6111a",
   "metadata": {},
   "outputs": [],
   "source": [
    "y_predito_teste = ajust_arvore.predict(X_teste)\n",
    "y_predito_treino = ajust_arvore.predict(X_treino)"
   ]
  },
  {
   "cell_type": "code",
   "execution_count": 22,
   "id": "aed17671",
   "metadata": {},
   "outputs": [
    {
     "data": {
      "text/html": [
       "<div>\n",
       "<style scoped>\n",
       "    .dataframe tbody tr th:only-of-type {\n",
       "        vertical-align: middle;\n",
       "    }\n",
       "\n",
       "    .dataframe tbody tr th {\n",
       "        vertical-align: top;\n",
       "    }\n",
       "\n",
       "    .dataframe thead th {\n",
       "        text-align: right;\n",
       "    }\n",
       "</style>\n",
       "<table border=\"1\" class=\"dataframe\">\n",
       "  <thead>\n",
       "    <tr style=\"text-align: right;\">\n",
       "      <th></th>\n",
       "      <th>Acurácia</th>\n",
       "      <th>Precisão</th>\n",
       "      <th>Sensibilidade</th>\n",
       "      <th>Kappa</th>\n",
       "      <th>roc_auc</th>\n",
       "    </tr>\n",
       "  </thead>\n",
       "  <tbody>\n",
       "    <tr>\n",
       "      <th>RandomForest_teste</th>\n",
       "      <td>0.760309</td>\n",
       "      <td>0.728448</td>\n",
       "      <td>0.830283</td>\n",
       "      <td>0.520598</td>\n",
       "      <td>0.760288</td>\n",
       "    </tr>\n",
       "    <tr>\n",
       "      <th>RandomForest_treino</th>\n",
       "      <td>0.787928</td>\n",
       "      <td>0.751878</td>\n",
       "      <td>0.859439</td>\n",
       "      <td>0.575860</td>\n",
       "      <td>0.787933</td>\n",
       "    </tr>\n",
       "  </tbody>\n",
       "</table>\n",
       "</div>"
      ],
      "text/plain": [
       "                     Acurácia  Precisão  Sensibilidade     Kappa   roc_auc\n",
       "RandomForest_teste   0.760309  0.728448       0.830283  0.520598  0.760288\n",
       "RandomForest_treino  0.787928  0.751878       0.859439  0.575860  0.787933"
      ]
     },
     "execution_count": 22,
     "metadata": {},
     "output_type": "execute_result"
    }
   ],
   "source": [
    "medidas_rf = pd.DataFrame({'Acurácia':[accuracy_score(y_teste, y_predito_teste), accuracy_score(y_treino, y_predito_treino)],\n",
    "                            'Precisão':[precision_score(y_teste, y_predito_teste), precision_score(y_treino, y_predito_treino)], \n",
    "                            'Sensibilidade':[recall_score(y_teste, y_predito_teste), recall_score(y_treino, y_predito_treino)],\n",
    "                            'Kappa':[cohen_kappa_score(y_teste, y_predito_teste), cohen_kappa_score(y_treino, y_predito_treino)],\n",
    "                            'roc_auc':[roc_auc_score(y_teste, y_predito_teste), roc_auc_score(y_treino, y_predito_treino)]\n",
    "                           },\n",
    "                           index=['RandomForest_teste', 'RandomForest_treino'])\n",
    "medidas_rf "
   ]
  },
  {
   "cell_type": "code",
   "execution_count": 28,
   "id": "4a7ab32e",
   "metadata": {},
   "outputs": [
    {
     "data": {
      "text/html": [
       "<div>\n",
       "<style scoped>\n",
       "    .dataframe tbody tr th:only-of-type {\n",
       "        vertical-align: middle;\n",
       "    }\n",
       "\n",
       "    .dataframe tbody tr th {\n",
       "        vertical-align: top;\n",
       "    }\n",
       "\n",
       "    .dataframe thead th {\n",
       "        text-align: right;\n",
       "    }\n",
       "</style>\n",
       "<table border=\"1\" class=\"dataframe\">\n",
       "  <thead>\n",
       "    <tr style=\"text-align: right;\">\n",
       "      <th></th>\n",
       "      <th>Variáveis</th>\n",
       "      <th>Importâncias</th>\n",
       "    </tr>\n",
       "  </thead>\n",
       "  <tbody>\n",
       "    <tr>\n",
       "      <th>4</th>\n",
       "      <td>TempoEspera</td>\n",
       "      <td>0.453357</td>\n",
       "    </tr>\n",
       "    <tr>\n",
       "      <th>0</th>\n",
       "      <td>Idade</td>\n",
       "      <td>0.152998</td>\n",
       "    </tr>\n",
       "    <tr>\n",
       "      <th>8</th>\n",
       "      <td>TempMinAG</td>\n",
       "      <td>0.079173</td>\n",
       "    </tr>\n",
       "    <tr>\n",
       "      <th>7</th>\n",
       "      <td>TempMaxAG</td>\n",
       "      <td>0.073961</td>\n",
       "    </tr>\n",
       "    <tr>\n",
       "      <th>6</th>\n",
       "      <td>PrecipitaçãoMediaAG</td>\n",
       "      <td>0.066012</td>\n",
       "    </tr>\n",
       "    <tr>\n",
       "      <th>10</th>\n",
       "      <td>Qtd_doencas</td>\n",
       "      <td>0.028016</td>\n",
       "    </tr>\n",
       "    <tr>\n",
       "      <th>5</th>\n",
       "      <td>Feminimo</td>\n",
       "      <td>0.026802</td>\n",
       "    </tr>\n",
       "    <tr>\n",
       "      <th>3</th>\n",
       "      <td>SMS_received</td>\n",
       "      <td>0.023657</td>\n",
       "    </tr>\n",
       "    <tr>\n",
       "      <th>9</th>\n",
       "      <td>Chuva</td>\n",
       "      <td>0.019286</td>\n",
       "    </tr>\n",
       "    <tr>\n",
       "      <th>13</th>\n",
       "      <td>Seg</td>\n",
       "      <td>0.013854</td>\n",
       "    </tr>\n",
       "    <tr>\n",
       "      <th>15</th>\n",
       "      <td>Ter</td>\n",
       "      <td>0.013775</td>\n",
       "    </tr>\n",
       "    <tr>\n",
       "      <th>14</th>\n",
       "      <td>Sex</td>\n",
       "      <td>0.012849</td>\n",
       "    </tr>\n",
       "    <tr>\n",
       "      <th>12</th>\n",
       "      <td>Qui</td>\n",
       "      <td>0.011321</td>\n",
       "    </tr>\n",
       "    <tr>\n",
       "      <th>11</th>\n",
       "      <td>Qua</td>\n",
       "      <td>0.011057</td>\n",
       "    </tr>\n",
       "    <tr>\n",
       "      <th>2</th>\n",
       "      <td>Deficiente</td>\n",
       "      <td>0.008107</td>\n",
       "    </tr>\n",
       "    <tr>\n",
       "      <th>1</th>\n",
       "      <td>Alcoolatra</td>\n",
       "      <td>0.005776</td>\n",
       "    </tr>\n",
       "  </tbody>\n",
       "</table>\n",
       "</div>"
      ],
      "text/plain": [
       "              Variáveis  Importâncias\n",
       "4           TempoEspera      0.453357\n",
       "0                 Idade      0.152998\n",
       "8             TempMinAG      0.079173\n",
       "7             TempMaxAG      0.073961\n",
       "6   PrecipitaçãoMediaAG      0.066012\n",
       "10          Qtd_doencas      0.028016\n",
       "5              Feminimo      0.026802\n",
       "3          SMS_received      0.023657\n",
       "9                 Chuva      0.019286\n",
       "13                  Seg      0.013854\n",
       "15                  Ter      0.013775\n",
       "14                  Sex      0.012849\n",
       "12                  Qui      0.011321\n",
       "11                  Qua      0.011057\n",
       "2            Deficiente      0.008107\n",
       "1            Alcoolatra      0.005776"
      ]
     },
     "execution_count": 28,
     "metadata": {},
     "output_type": "execute_result"
    }
   ],
   "source": [
    "pd.DataFrame({'Variáveis':ajust_arvore.feature_names_in_,'Importâncias':ajust_arvore.feature_importances_}).sort_values('Importâncias', ascending = False)"
   ]
  },
  {
   "cell_type": "markdown",
   "id": "0d3806e5",
   "metadata": {},
   "source": [
    "## Light GBM"
   ]
  },
  {
   "cell_type": "code",
   "execution_count": 44,
   "id": "0efb53ce",
   "metadata": {},
   "outputs": [
    {
     "name": "stdout",
     "output_type": "stream",
     "text": [
      "[LightGBM] [Info] Number of positive: 70560, number of negative: 70571\n",
      "[LightGBM] [Info] Auto-choosing row-wise multi-threading, the overhead of testing was 0.007911 seconds.\n",
      "You can set `force_row_wise=true` to remove the overhead.\n",
      "And if memory is not enough, you can set `force_col_wise=true`.\n",
      "[LightGBM] [Info] Total Bins 1022\n",
      "[LightGBM] [Info] Number of data points in the train set: 141131, number of used features: 16\n",
      "[LightGBM] [Info] [binary:BoostFromScore]: pavg=0.499961 -> initscore=-0.000156\n",
      "[LightGBM] [Info] Start training from score -0.000156\n"
     ]
    }
   ],
   "source": [
    "lgbm = LGBMClassifier(random_state = SEED, importance_type = 'gain')\n",
    "\n",
    "#Ajuste \n",
    "ajust_lgbm = lgbm.fit(X_treino, y_treino)"
   ]
  },
  {
   "cell_type": "code",
   "execution_count": 45,
   "id": "a9b225a3",
   "metadata": {},
   "outputs": [],
   "source": [
    "y_predito_teste = ajust_lgbm.predict(X_teste)\n",
    "y_predito_treino = ajust_lgbm.predict(X_treino)"
   ]
  },
  {
   "cell_type": "code",
   "execution_count": 46,
   "id": "a46173f8",
   "metadata": {},
   "outputs": [
    {
     "data": {
      "text/html": [
       "<div>\n",
       "<style scoped>\n",
       "    .dataframe tbody tr th:only-of-type {\n",
       "        vertical-align: middle;\n",
       "    }\n",
       "\n",
       "    .dataframe tbody tr th {\n",
       "        vertical-align: top;\n",
       "    }\n",
       "\n",
       "    .dataframe thead th {\n",
       "        text-align: right;\n",
       "    }\n",
       "</style>\n",
       "<table border=\"1\" class=\"dataframe\">\n",
       "  <thead>\n",
       "    <tr style=\"text-align: right;\">\n",
       "      <th></th>\n",
       "      <th>Acurácia</th>\n",
       "      <th>Precisão</th>\n",
       "      <th>Sensibilidade</th>\n",
       "      <th>Kappa</th>\n",
       "      <th>roc_auc</th>\n",
       "    </tr>\n",
       "  </thead>\n",
       "  <tbody>\n",
       "    <tr>\n",
       "      <th>LGBM_teste</th>\n",
       "      <td>0.740243</td>\n",
       "      <td>0.724867</td>\n",
       "      <td>0.774693</td>\n",
       "      <td>0.480475</td>\n",
       "      <td>0.740232</td>\n",
       "    </tr>\n",
       "    <tr>\n",
       "      <th>LGBM_treino</th>\n",
       "      <td>0.741531</td>\n",
       "      <td>0.726338</td>\n",
       "      <td>0.775028</td>\n",
       "      <td>0.483065</td>\n",
       "      <td>0.741534</td>\n",
       "    </tr>\n",
       "  </tbody>\n",
       "</table>\n",
       "</div>"
      ],
      "text/plain": [
       "             Acurácia  Precisão  Sensibilidade     Kappa   roc_auc\n",
       "LGBM_teste   0.740243  0.724867       0.774693  0.480475  0.740232\n",
       "LGBM_treino  0.741531  0.726338       0.775028  0.483065  0.741534"
      ]
     },
     "execution_count": 46,
     "metadata": {},
     "output_type": "execute_result"
    }
   ],
   "source": [
    "medidas_lgbm = pd.DataFrame({'Acurácia':[accuracy_score(y_teste, y_predito_teste), accuracy_score(y_treino, y_predito_treino)],\n",
    "                            'Precisão':[precision_score(y_teste, y_predito_teste), precision_score(y_treino, y_predito_treino)], \n",
    "                            'Sensibilidade':[recall_score(y_teste, y_predito_teste), recall_score(y_treino, y_predito_treino)],\n",
    "                            'Kappa':[cohen_kappa_score(y_teste, y_predito_teste), cohen_kappa_score(y_treino, y_predito_treino)],\n",
    "                            'roc_auc':[roc_auc_score(y_teste, y_predito_teste), roc_auc_score(y_treino, y_predito_treino)]\n",
    "                           },\n",
    "                           index=['LGBM_teste', 'LGBM_treino'])\n",
    "medidas_lgbm "
   ]
  },
  {
   "cell_type": "code",
   "execution_count": 32,
   "id": "86627d22",
   "metadata": {},
   "outputs": [],
   "source": [
    "#Tunando \n",
    "\n",
    "hyper_lgbm = {\n",
    "    'learning_rate' : list(np.logspace(np.log10(.7), np.log10(2), num =25)), #Retorna 15 nº espaçados uniformemente\n",
    "    'reg_alpha' : list(np.logspace(np.log10(.005), np.log10(5), num = 10)),\n",
    "    'reg_lambda' : list(np.logspace(np.log10(.005), np.log10(5), num = 10))\n",
    "\n",
    "}"
   ]
  },
  {
   "cell_type": "code",
   "execution_count": 80,
   "id": "e1b22d33",
   "metadata": {},
   "outputs": [
    {
     "name": "stdout",
     "output_type": "stream",
     "text": [
      "Combinações possíveis:  2500\n"
     ]
    }
   ],
   "source": [
    "tamanho = 1\n",
    "for valores in hyper_lgbm.values():\n",
    "    tamanho = tamanho * len(valores) \n",
    "    \n",
    "print('Combinações possíveis: ',tamanho)"
   ]
  },
  {
   "cell_type": "code",
   "execution_count": 81,
   "id": "e17a0f6b",
   "metadata": {},
   "outputs": [
    {
     "name": "stdout",
     "output_type": "stream",
     "text": [
      "Fitting 3 folds for each of 1000 candidates, totalling 3000 fits\n",
      "[LightGBM] [Info] Number of positive: 70560, number of negative: 70571\n",
      "[LightGBM] [Info] Auto-choosing row-wise multi-threading, the overhead of testing was 0.009979 seconds.\n",
      "You can set `force_row_wise=true` to remove the overhead.\n",
      "And if memory is not enough, you can set `force_col_wise=true`.\n",
      "[LightGBM] [Info] Total Bins 1022\n",
      "[LightGBM] [Info] Number of data points in the train set: 141131, number of used features: 16\n",
      "[LightGBM] [Info] [binary:BoostFromScore]: pavg=0.499961 -> initscore=-0.000156\n",
      "[LightGBM] [Info] Start training from score -0.000156\n"
     ]
    }
   ],
   "source": [
    "rs_lgbm = RandomizedSearchCV( estimator = lgbm, \n",
    "                                 param_distributions = hyper_lgbm, \n",
    "                                 scoring = 'accuracy', \n",
    "                                 n_jobs = -1, \n",
    "                                 cv = 3,\n",
    "                                 n_iter = 1000,\n",
    "                                 return_train_score = True,\n",
    "                                 verbose = 1,\n",
    "                                 random_state = 2024,\n",
    "                                 refit = 'KS'\n",
    ").fit(X_treino, y_treino)"
   ]
  },
  {
   "cell_type": "code",
   "execution_count": 86,
   "id": "3586994a",
   "metadata": {
    "scrolled": false
   },
   "outputs": [],
   "source": [
    "resultados = pd.DataFrame(rs_lgbm.cv_results_)[['param_reg_lambda', 'param_reg_alpha', 'param_learning_rate','mean_test_score','std_test_score','mean_train_score','std_train_score']]"
   ]
  },
  {
   "cell_type": "code",
   "execution_count": 89,
   "id": "77eecb92",
   "metadata": {},
   "outputs": [
    {
     "data": {
      "text/html": [
       "<div>\n",
       "<style scoped>\n",
       "    .dataframe tbody tr th:only-of-type {\n",
       "        vertical-align: middle;\n",
       "    }\n",
       "\n",
       "    .dataframe tbody tr th {\n",
       "        vertical-align: top;\n",
       "    }\n",
       "\n",
       "    .dataframe thead th {\n",
       "        text-align: right;\n",
       "    }\n",
       "</style>\n",
       "<table border=\"1\" class=\"dataframe\">\n",
       "  <thead>\n",
       "    <tr style=\"text-align: right;\">\n",
       "      <th></th>\n",
       "      <th>param_reg_lambda</th>\n",
       "      <th>param_reg_alpha</th>\n",
       "      <th>param_learning_rate</th>\n",
       "      <th>mean_test_score</th>\n",
       "      <th>std_test_score</th>\n",
       "      <th>mean_train_score</th>\n",
       "      <th>std_train_score</th>\n",
       "    </tr>\n",
       "  </thead>\n",
       "  <tbody>\n",
       "    <tr>\n",
       "      <th>800</th>\n",
       "      <td>2.320794</td>\n",
       "      <td>0.107722</td>\n",
       "      <td>1.183216</td>\n",
       "      <td>0.752429</td>\n",
       "      <td>0.001228</td>\n",
       "      <td>0.801599</td>\n",
       "      <td>0.000305</td>\n",
       "    </tr>\n",
       "    <tr>\n",
       "      <th>651</th>\n",
       "      <td>2.320794</td>\n",
       "      <td>0.023208</td>\n",
       "      <td>1.236122</td>\n",
       "      <td>0.751274</td>\n",
       "      <td>0.002581</td>\n",
       "      <td>0.801181</td>\n",
       "      <td>0.000417</td>\n",
       "    </tr>\n",
       "    <tr>\n",
       "      <th>131</th>\n",
       "      <td>5.0</td>\n",
       "      <td>0.5</td>\n",
       "      <td>1.291393</td>\n",
       "      <td>0.751947</td>\n",
       "      <td>0.000761</td>\n",
       "      <td>0.801156</td>\n",
       "      <td>0.001324</td>\n",
       "    </tr>\n",
       "    <tr>\n",
       "      <th>209</th>\n",
       "      <td>1.077217</td>\n",
       "      <td>0.107722</td>\n",
       "      <td>1.236122</td>\n",
       "      <td>0.750182</td>\n",
       "      <td>0.000178</td>\n",
       "      <td>0.801093</td>\n",
       "      <td>0.001447</td>\n",
       "    </tr>\n",
       "    <tr>\n",
       "      <th>669</th>\n",
       "      <td>2.320794</td>\n",
       "      <td>0.05</td>\n",
       "      <td>1.183216</td>\n",
       "      <td>0.751004</td>\n",
       "      <td>0.001500</td>\n",
       "      <td>0.800976</td>\n",
       "      <td>0.000401</td>\n",
       "    </tr>\n",
       "    <tr>\n",
       "      <th>832</th>\n",
       "      <td>2.320794</td>\n",
       "      <td>0.010772</td>\n",
       "      <td>1.291393</td>\n",
       "      <td>0.750863</td>\n",
       "      <td>0.002226</td>\n",
       "      <td>0.800873</td>\n",
       "      <td>0.001204</td>\n",
       "    </tr>\n",
       "    <tr>\n",
       "      <th>506</th>\n",
       "      <td>1.077217</td>\n",
       "      <td>0.5</td>\n",
       "      <td>1.236122</td>\n",
       "      <td>0.750381</td>\n",
       "      <td>0.001074</td>\n",
       "      <td>0.800841</td>\n",
       "      <td>0.000184</td>\n",
       "    </tr>\n",
       "    <tr>\n",
       "      <th>239</th>\n",
       "      <td>1.077217</td>\n",
       "      <td>0.010772</td>\n",
       "      <td>1.132575</td>\n",
       "      <td>0.750310</td>\n",
       "      <td>0.001077</td>\n",
       "      <td>0.800784</td>\n",
       "      <td>0.001329</td>\n",
       "    </tr>\n",
       "    <tr>\n",
       "      <th>712</th>\n",
       "      <td>2.320794</td>\n",
       "      <td>0.05</td>\n",
       "      <td>1.349135</td>\n",
       "      <td>0.749736</td>\n",
       "      <td>0.001667</td>\n",
       "      <td>0.800745</td>\n",
       "      <td>0.000868</td>\n",
       "    </tr>\n",
       "    <tr>\n",
       "      <th>567</th>\n",
       "      <td>2.320794</td>\n",
       "      <td>0.5</td>\n",
       "      <td>1.349135</td>\n",
       "      <td>0.750034</td>\n",
       "      <td>0.000458</td>\n",
       "      <td>0.800512</td>\n",
       "      <td>0.000879</td>\n",
       "    </tr>\n",
       "    <tr>\n",
       "      <th>34</th>\n",
       "      <td>1.077217</td>\n",
       "      <td>0.010772</td>\n",
       "      <td>1.183216</td>\n",
       "      <td>0.749077</td>\n",
       "      <td>0.002170</td>\n",
       "      <td>0.800430</td>\n",
       "      <td>0.000812</td>\n",
       "    </tr>\n",
       "    <tr>\n",
       "      <th>152</th>\n",
       "      <td>1.077217</td>\n",
       "      <td>1.077217</td>\n",
       "      <td>1.084101</td>\n",
       "      <td>0.753215</td>\n",
       "      <td>0.001348</td>\n",
       "      <td>0.800419</td>\n",
       "      <td>0.000668</td>\n",
       "    </tr>\n",
       "    <tr>\n",
       "      <th>391</th>\n",
       "      <td>5.0</td>\n",
       "      <td>0.010772</td>\n",
       "      <td>1.291393</td>\n",
       "      <td>0.750034</td>\n",
       "      <td>0.000684</td>\n",
       "      <td>0.800402</td>\n",
       "      <td>0.000683</td>\n",
       "    </tr>\n",
       "    <tr>\n",
       "      <th>470</th>\n",
       "      <td>0.5</td>\n",
       "      <td>1.077217</td>\n",
       "      <td>1.236122</td>\n",
       "      <td>0.749743</td>\n",
       "      <td>0.001495</td>\n",
       "      <td>0.800395</td>\n",
       "      <td>0.001821</td>\n",
       "    </tr>\n",
       "    <tr>\n",
       "      <th>398</th>\n",
       "      <td>0.232079</td>\n",
       "      <td>1.077217</td>\n",
       "      <td>1.084101</td>\n",
       "      <td>0.753555</td>\n",
       "      <td>0.002034</td>\n",
       "      <td>0.800352</td>\n",
       "      <td>0.000952</td>\n",
       "    </tr>\n",
       "    <tr>\n",
       "      <th>303</th>\n",
       "      <td>2.320794</td>\n",
       "      <td>0.107722</td>\n",
       "      <td>1.084101</td>\n",
       "      <td>0.751812</td>\n",
       "      <td>0.001364</td>\n",
       "      <td>0.800349</td>\n",
       "      <td>0.000749</td>\n",
       "    </tr>\n",
       "    <tr>\n",
       "      <th>52</th>\n",
       "      <td>2.320794</td>\n",
       "      <td>0.010772</td>\n",
       "      <td>1.349135</td>\n",
       "      <td>0.749453</td>\n",
       "      <td>0.001350</td>\n",
       "      <td>0.800342</td>\n",
       "      <td>0.000568</td>\n",
       "    </tr>\n",
       "    <tr>\n",
       "      <th>835</th>\n",
       "      <td>0.232079</td>\n",
       "      <td>2.320794</td>\n",
       "      <td>1.236122</td>\n",
       "      <td>0.752166</td>\n",
       "      <td>0.001572</td>\n",
       "      <td>0.800299</td>\n",
       "      <td>0.000222</td>\n",
       "    </tr>\n",
       "    <tr>\n",
       "      <th>930</th>\n",
       "      <td>2.320794</td>\n",
       "      <td>0.232079</td>\n",
       "      <td>1.132575</td>\n",
       "      <td>0.753158</td>\n",
       "      <td>0.002442</td>\n",
       "      <td>0.800242</td>\n",
       "      <td>0.002086</td>\n",
       "    </tr>\n",
       "    <tr>\n",
       "      <th>478</th>\n",
       "      <td>0.05</td>\n",
       "      <td>1.077217</td>\n",
       "      <td>1.037702</td>\n",
       "      <td>0.752074</td>\n",
       "      <td>0.000393</td>\n",
       "      <td>0.800161</td>\n",
       "      <td>0.000137</td>\n",
       "    </tr>\n",
       "    <tr>\n",
       "      <th>606</th>\n",
       "      <td>2.320794</td>\n",
       "      <td>0.05</td>\n",
       "      <td>1.084101</td>\n",
       "      <td>0.752081</td>\n",
       "      <td>0.001173</td>\n",
       "      <td>0.800143</td>\n",
       "      <td>0.001325</td>\n",
       "    </tr>\n",
       "    <tr>\n",
       "      <th>145</th>\n",
       "      <td>0.5</td>\n",
       "      <td>0.232079</td>\n",
       "      <td>0.993288</td>\n",
       "      <td>0.751174</td>\n",
       "      <td>0.001675</td>\n",
       "      <td>0.800143</td>\n",
       "      <td>0.000458</td>\n",
       "    </tr>\n",
       "    <tr>\n",
       "      <th>72</th>\n",
       "      <td>0.5</td>\n",
       "      <td>0.5</td>\n",
       "      <td>1.183216</td>\n",
       "      <td>0.749240</td>\n",
       "      <td>0.000665</td>\n",
       "      <td>0.800072</td>\n",
       "      <td>0.001602</td>\n",
       "    </tr>\n",
       "    <tr>\n",
       "      <th>537</th>\n",
       "      <td>2.320794</td>\n",
       "      <td>0.010772</td>\n",
       "      <td>1.084101</td>\n",
       "      <td>0.750934</td>\n",
       "      <td>0.000869</td>\n",
       "      <td>0.800055</td>\n",
       "      <td>0.000922</td>\n",
       "    </tr>\n",
       "    <tr>\n",
       "      <th>879</th>\n",
       "      <td>0.023208</td>\n",
       "      <td>1.077217</td>\n",
       "      <td>1.183216</td>\n",
       "      <td>0.751125</td>\n",
       "      <td>0.000941</td>\n",
       "      <td>0.800051</td>\n",
       "      <td>0.001392</td>\n",
       "    </tr>\n",
       "    <tr>\n",
       "      <th>557</th>\n",
       "      <td>1.077217</td>\n",
       "      <td>0.05</td>\n",
       "      <td>1.183216</td>\n",
       "      <td>0.749353</td>\n",
       "      <td>0.001460</td>\n",
       "      <td>0.800047</td>\n",
       "      <td>0.000304</td>\n",
       "    </tr>\n",
       "    <tr>\n",
       "      <th>714</th>\n",
       "      <td>1.077217</td>\n",
       "      <td>0.5</td>\n",
       "      <td>1.183216</td>\n",
       "      <td>0.750749</td>\n",
       "      <td>0.000805</td>\n",
       "      <td>0.800037</td>\n",
       "      <td>0.000898</td>\n",
       "    </tr>\n",
       "    <tr>\n",
       "      <th>228</th>\n",
       "      <td>5.0</td>\n",
       "      <td>0.023208</td>\n",
       "      <td>1.291393</td>\n",
       "      <td>0.750813</td>\n",
       "      <td>0.000986</td>\n",
       "      <td>0.800019</td>\n",
       "      <td>0.001283</td>\n",
       "    </tr>\n",
       "    <tr>\n",
       "      <th>817</th>\n",
       "      <td>5.0</td>\n",
       "      <td>0.010772</td>\n",
       "      <td>1.349135</td>\n",
       "      <td>0.751876</td>\n",
       "      <td>0.002416</td>\n",
       "      <td>0.800019</td>\n",
       "      <td>0.001288</td>\n",
       "    </tr>\n",
       "    <tr>\n",
       "      <th>836</th>\n",
       "      <td>0.107722</td>\n",
       "      <td>2.320794</td>\n",
       "      <td>1.291393</td>\n",
       "      <td>0.752259</td>\n",
       "      <td>0.000716</td>\n",
       "      <td>0.800008</td>\n",
       "      <td>0.002061</td>\n",
       "    </tr>\n",
       "    <tr>\n",
       "      <th>2</th>\n",
       "      <td>1.077217</td>\n",
       "      <td>0.232079</td>\n",
       "      <td>1.132575</td>\n",
       "      <td>0.752995</td>\n",
       "      <td>0.001957</td>\n",
       "      <td>0.799987</td>\n",
       "      <td>0.000051</td>\n",
       "    </tr>\n",
       "    <tr>\n",
       "      <th>523</th>\n",
       "      <td>0.5</td>\n",
       "      <td>0.5</td>\n",
       "      <td>1.084101</td>\n",
       "      <td>0.751458</td>\n",
       "      <td>0.001451</td>\n",
       "      <td>0.799962</td>\n",
       "      <td>0.000414</td>\n",
       "    </tr>\n",
       "    <tr>\n",
       "      <th>821</th>\n",
       "      <td>2.320794</td>\n",
       "      <td>0.107722</td>\n",
       "      <td>1.132575</td>\n",
       "      <td>0.749927</td>\n",
       "      <td>0.001341</td>\n",
       "      <td>0.799955</td>\n",
       "      <td>0.001078</td>\n",
       "    </tr>\n",
       "    <tr>\n",
       "      <th>95</th>\n",
       "      <td>2.320794</td>\n",
       "      <td>0.05</td>\n",
       "      <td>1.236122</td>\n",
       "      <td>0.750027</td>\n",
       "      <td>0.001364</td>\n",
       "      <td>0.799948</td>\n",
       "      <td>0.000786</td>\n",
       "    </tr>\n",
       "    <tr>\n",
       "      <th>687</th>\n",
       "      <td>0.010772</td>\n",
       "      <td>1.077217</td>\n",
       "      <td>1.183216</td>\n",
       "      <td>0.750792</td>\n",
       "      <td>0.000682</td>\n",
       "      <td>0.799920</td>\n",
       "      <td>0.001390</td>\n",
       "    </tr>\n",
       "    <tr>\n",
       "      <th>7</th>\n",
       "      <td>0.5</td>\n",
       "      <td>1.077217</td>\n",
       "      <td>1.037702</td>\n",
       "      <td>0.751755</td>\n",
       "      <td>0.000600</td>\n",
       "      <td>0.799913</td>\n",
       "      <td>0.000863</td>\n",
       "    </tr>\n",
       "    <tr>\n",
       "      <th>656</th>\n",
       "      <td>0.023208</td>\n",
       "      <td>1.077217</td>\n",
       "      <td>1.084101</td>\n",
       "      <td>0.751061</td>\n",
       "      <td>0.001296</td>\n",
       "      <td>0.799902</td>\n",
       "      <td>0.000839</td>\n",
       "    </tr>\n",
       "    <tr>\n",
       "      <th>291</th>\n",
       "      <td>0.05</td>\n",
       "      <td>2.320794</td>\n",
       "      <td>1.236122</td>\n",
       "      <td>0.751656</td>\n",
       "      <td>0.001053</td>\n",
       "      <td>0.799838</td>\n",
       "      <td>0.001237</td>\n",
       "    </tr>\n",
       "    <tr>\n",
       "      <th>629</th>\n",
       "      <td>0.107722</td>\n",
       "      <td>2.320794</td>\n",
       "      <td>1.132575</td>\n",
       "      <td>0.753909</td>\n",
       "      <td>0.001939</td>\n",
       "      <td>0.799828</td>\n",
       "      <td>0.000636</td>\n",
       "    </tr>\n",
       "    <tr>\n",
       "      <th>490</th>\n",
       "      <td>1.077217</td>\n",
       "      <td>0.232079</td>\n",
       "      <td>1.236122</td>\n",
       "      <td>0.750657</td>\n",
       "      <td>0.000946</td>\n",
       "      <td>0.799828</td>\n",
       "      <td>0.001055</td>\n",
       "    </tr>\n",
       "    <tr>\n",
       "      <th>952</th>\n",
       "      <td>1.077217</td>\n",
       "      <td>1.077217</td>\n",
       "      <td>1.132575</td>\n",
       "      <td>0.754179</td>\n",
       "      <td>0.000710</td>\n",
       "      <td>0.799796</td>\n",
       "      <td>0.000907</td>\n",
       "    </tr>\n",
       "    <tr>\n",
       "      <th>271</th>\n",
       "      <td>5.0</td>\n",
       "      <td>0.010772</td>\n",
       "      <td>1.183216</td>\n",
       "      <td>0.753973</td>\n",
       "      <td>0.001732</td>\n",
       "      <td>0.799792</td>\n",
       "      <td>0.000239</td>\n",
       "    </tr>\n",
       "    <tr>\n",
       "      <th>792</th>\n",
       "      <td>2.320794</td>\n",
       "      <td>0.005</td>\n",
       "      <td>1.183216</td>\n",
       "      <td>0.750820</td>\n",
       "      <td>0.003044</td>\n",
       "      <td>0.799792</td>\n",
       "      <td>0.001220</td>\n",
       "    </tr>\n",
       "    <tr>\n",
       "      <th>276</th>\n",
       "      <td>1.077217</td>\n",
       "      <td>0.05</td>\n",
       "      <td>1.037702</td>\n",
       "      <td>0.750678</td>\n",
       "      <td>0.000499</td>\n",
       "      <td>0.799757</td>\n",
       "      <td>0.000440</td>\n",
       "    </tr>\n",
       "    <tr>\n",
       "      <th>904</th>\n",
       "      <td>2.320794</td>\n",
       "      <td>0.107722</td>\n",
       "      <td>1.349135</td>\n",
       "      <td>0.748425</td>\n",
       "      <td>0.000719</td>\n",
       "      <td>0.799750</td>\n",
       "      <td>0.001210</td>\n",
       "    </tr>\n",
       "    <tr>\n",
       "      <th>89</th>\n",
       "      <td>0.5</td>\n",
       "      <td>1.077217</td>\n",
       "      <td>1.183216</td>\n",
       "      <td>0.750926</td>\n",
       "      <td>0.002030</td>\n",
       "      <td>0.799718</td>\n",
       "      <td>0.001724</td>\n",
       "    </tr>\n",
       "    <tr>\n",
       "      <th>154</th>\n",
       "      <td>5.0</td>\n",
       "      <td>0.232079</td>\n",
       "      <td>1.236122</td>\n",
       "      <td>0.751607</td>\n",
       "      <td>0.002854</td>\n",
       "      <td>0.799714</td>\n",
       "      <td>0.001472</td>\n",
       "    </tr>\n",
       "    <tr>\n",
       "      <th>684</th>\n",
       "      <td>5.0</td>\n",
       "      <td>0.107722</td>\n",
       "      <td>1.349135</td>\n",
       "      <td>0.752237</td>\n",
       "      <td>0.000517</td>\n",
       "      <td>0.799707</td>\n",
       "      <td>0.001214</td>\n",
       "    </tr>\n",
       "    <tr>\n",
       "      <th>972</th>\n",
       "      <td>0.010772</td>\n",
       "      <td>0.5</td>\n",
       "      <td>1.037702</td>\n",
       "      <td>0.750012</td>\n",
       "      <td>0.000811</td>\n",
       "      <td>0.799651</td>\n",
       "      <td>0.001831</td>\n",
       "    </tr>\n",
       "    <tr>\n",
       "      <th>33</th>\n",
       "      <td>5.0</td>\n",
       "      <td>0.5</td>\n",
       "      <td>1.349135</td>\n",
       "      <td>0.752195</td>\n",
       "      <td>0.001000</td>\n",
       "      <td>0.799615</td>\n",
       "      <td>0.002072</td>\n",
       "    </tr>\n",
       "  </tbody>\n",
       "</table>\n",
       "</div>"
      ],
      "text/plain": [
       "    param_reg_lambda param_reg_alpha param_learning_rate  mean_test_score  \\\n",
       "800         2.320794        0.107722            1.183216         0.752429   \n",
       "651         2.320794        0.023208            1.236122         0.751274   \n",
       "131              5.0             0.5            1.291393         0.751947   \n",
       "209         1.077217        0.107722            1.236122         0.750182   \n",
       "669         2.320794            0.05            1.183216         0.751004   \n",
       "832         2.320794        0.010772            1.291393         0.750863   \n",
       "506         1.077217             0.5            1.236122         0.750381   \n",
       "239         1.077217        0.010772            1.132575         0.750310   \n",
       "712         2.320794            0.05            1.349135         0.749736   \n",
       "567         2.320794             0.5            1.349135         0.750034   \n",
       "34          1.077217        0.010772            1.183216         0.749077   \n",
       "152         1.077217        1.077217            1.084101         0.753215   \n",
       "391              5.0        0.010772            1.291393         0.750034   \n",
       "470              0.5        1.077217            1.236122         0.749743   \n",
       "398         0.232079        1.077217            1.084101         0.753555   \n",
       "303         2.320794        0.107722            1.084101         0.751812   \n",
       "52          2.320794        0.010772            1.349135         0.749453   \n",
       "835         0.232079        2.320794            1.236122         0.752166   \n",
       "930         2.320794        0.232079            1.132575         0.753158   \n",
       "478             0.05        1.077217            1.037702         0.752074   \n",
       "606         2.320794            0.05            1.084101         0.752081   \n",
       "145              0.5        0.232079            0.993288         0.751174   \n",
       "72               0.5             0.5            1.183216         0.749240   \n",
       "537         2.320794        0.010772            1.084101         0.750934   \n",
       "879         0.023208        1.077217            1.183216         0.751125   \n",
       "557         1.077217            0.05            1.183216         0.749353   \n",
       "714         1.077217             0.5            1.183216         0.750749   \n",
       "228              5.0        0.023208            1.291393         0.750813   \n",
       "817              5.0        0.010772            1.349135         0.751876   \n",
       "836         0.107722        2.320794            1.291393         0.752259   \n",
       "2           1.077217        0.232079            1.132575         0.752995   \n",
       "523              0.5             0.5            1.084101         0.751458   \n",
       "821         2.320794        0.107722            1.132575         0.749927   \n",
       "95          2.320794            0.05            1.236122         0.750027   \n",
       "687         0.010772        1.077217            1.183216         0.750792   \n",
       "7                0.5        1.077217            1.037702         0.751755   \n",
       "656         0.023208        1.077217            1.084101         0.751061   \n",
       "291             0.05        2.320794            1.236122         0.751656   \n",
       "629         0.107722        2.320794            1.132575         0.753909   \n",
       "490         1.077217        0.232079            1.236122         0.750657   \n",
       "952         1.077217        1.077217            1.132575         0.754179   \n",
       "271              5.0        0.010772            1.183216         0.753973   \n",
       "792         2.320794           0.005            1.183216         0.750820   \n",
       "276         1.077217            0.05            1.037702         0.750678   \n",
       "904         2.320794        0.107722            1.349135         0.748425   \n",
       "89               0.5        1.077217            1.183216         0.750926   \n",
       "154              5.0        0.232079            1.236122         0.751607   \n",
       "684              5.0        0.107722            1.349135         0.752237   \n",
       "972         0.010772             0.5            1.037702         0.750012   \n",
       "33               5.0             0.5            1.349135         0.752195   \n",
       "\n",
       "     std_test_score  mean_train_score  std_train_score  \n",
       "800        0.001228          0.801599         0.000305  \n",
       "651        0.002581          0.801181         0.000417  \n",
       "131        0.000761          0.801156         0.001324  \n",
       "209        0.000178          0.801093         0.001447  \n",
       "669        0.001500          0.800976         0.000401  \n",
       "832        0.002226          0.800873         0.001204  \n",
       "506        0.001074          0.800841         0.000184  \n",
       "239        0.001077          0.800784         0.001329  \n",
       "712        0.001667          0.800745         0.000868  \n",
       "567        0.000458          0.800512         0.000879  \n",
       "34         0.002170          0.800430         0.000812  \n",
       "152        0.001348          0.800419         0.000668  \n",
       "391        0.000684          0.800402         0.000683  \n",
       "470        0.001495          0.800395         0.001821  \n",
       "398        0.002034          0.800352         0.000952  \n",
       "303        0.001364          0.800349         0.000749  \n",
       "52         0.001350          0.800342         0.000568  \n",
       "835        0.001572          0.800299         0.000222  \n",
       "930        0.002442          0.800242         0.002086  \n",
       "478        0.000393          0.800161         0.000137  \n",
       "606        0.001173          0.800143         0.001325  \n",
       "145        0.001675          0.800143         0.000458  \n",
       "72         0.000665          0.800072         0.001602  \n",
       "537        0.000869          0.800055         0.000922  \n",
       "879        0.000941          0.800051         0.001392  \n",
       "557        0.001460          0.800047         0.000304  \n",
       "714        0.000805          0.800037         0.000898  \n",
       "228        0.000986          0.800019         0.001283  \n",
       "817        0.002416          0.800019         0.001288  \n",
       "836        0.000716          0.800008         0.002061  \n",
       "2          0.001957          0.799987         0.000051  \n",
       "523        0.001451          0.799962         0.000414  \n",
       "821        0.001341          0.799955         0.001078  \n",
       "95         0.001364          0.799948         0.000786  \n",
       "687        0.000682          0.799920         0.001390  \n",
       "7          0.000600          0.799913         0.000863  \n",
       "656        0.001296          0.799902         0.000839  \n",
       "291        0.001053          0.799838         0.001237  \n",
       "629        0.001939          0.799828         0.000636  \n",
       "490        0.000946          0.799828         0.001055  \n",
       "952        0.000710          0.799796         0.000907  \n",
       "271        0.001732          0.799792         0.000239  \n",
       "792        0.003044          0.799792         0.001220  \n",
       "276        0.000499          0.799757         0.000440  \n",
       "904        0.000719          0.799750         0.001210  \n",
       "89         0.002030          0.799718         0.001724  \n",
       "154        0.002854          0.799714         0.001472  \n",
       "684        0.000517          0.799707         0.001214  \n",
       "972        0.000811          0.799651         0.001831  \n",
       "33         0.001000          0.799615         0.002072  "
      ]
     },
     "execution_count": 89,
     "metadata": {},
     "output_type": "execute_result"
    }
   ],
   "source": [
    "resultados.sort_values(['mean_train_score', 'mean_test_score'], ascending = False)[:50]"
   ]
  },
  {
   "cell_type": "code",
   "execution_count": 88,
   "id": "0d8e8d50",
   "metadata": {},
   "outputs": [],
   "source": [
    "resultados.to_csv(r'..\\Dados\\Kaggle\\tuningLGBM4.csv', index = False)"
   ]
  },
  {
   "cell_type": "code",
   "execution_count": 36,
   "id": "69b8398f",
   "metadata": {},
   "outputs": [
    {
     "name": "stdout",
     "output_type": "stream",
     "text": [
      "[LightGBM] [Info] Number of positive: 70560, number of negative: 70571\n",
      "[LightGBM] [Info] Auto-choosing row-wise multi-threading, the overhead of testing was 0.006671 seconds.\n",
      "You can set `force_row_wise=true` to remove the overhead.\n",
      "And if memory is not enough, you can set `force_col_wise=true`.\n",
      "[LightGBM] [Info] Total Bins 1022\n",
      "[LightGBM] [Info] Number of data points in the train set: 141131, number of used features: 16\n",
      "[LightGBM] [Info] [binary:BoostFromScore]: pavg=0.499961 -> initscore=-0.000156\n",
      "[LightGBM] [Info] Start training from score -0.000156\n",
      "Tempo de processamento (seg):  0.5399677753448486\n"
     ]
    }
   ],
   "source": [
    "lgbm_tunado = LGBMClassifier(reg_lambda = 0.023207944168063883,\n",
    "                             reg_alpha = 2.3207944168063883,\n",
    "                             learning_rate = 0.7981592194002909,\n",
    "                             random_state = SEED, importance_type = 'gain')\n",
    " \n",
    "#Ajuste \n",
    "inicio = time.time()\n",
    "ajust_lgbm = lgbm_tunado.fit(X_treino, y_treino)\n",
    "fim = time.time()\n",
    "print('Tempo de processamento (seg): ',fim - inicio)"
   ]
  },
  {
   "cell_type": "code",
   "execution_count": 37,
   "id": "e385a6da",
   "metadata": {},
   "outputs": [
    {
     "data": {
      "text/html": [
       "<div>\n",
       "<style scoped>\n",
       "    .dataframe tbody tr th:only-of-type {\n",
       "        vertical-align: middle;\n",
       "    }\n",
       "\n",
       "    .dataframe tbody tr th {\n",
       "        vertical-align: top;\n",
       "    }\n",
       "\n",
       "    .dataframe thead th {\n",
       "        text-align: right;\n",
       "    }\n",
       "</style>\n",
       "<table border=\"1\" class=\"dataframe\">\n",
       "  <thead>\n",
       "    <tr style=\"text-align: right;\">\n",
       "      <th></th>\n",
       "      <th>Acurácia</th>\n",
       "      <th>Precisão</th>\n",
       "      <th>Sensibilidade</th>\n",
       "      <th>Kappa</th>\n",
       "      <th>roc_auc</th>\n",
       "    </tr>\n",
       "  </thead>\n",
       "  <tbody>\n",
       "    <tr>\n",
       "      <th>LGBM_teste</th>\n",
       "      <td>0.758637</td>\n",
       "      <td>0.751751</td>\n",
       "      <td>0.772539</td>\n",
       "      <td>0.517270</td>\n",
       "      <td>0.758633</td>\n",
       "    </tr>\n",
       "    <tr>\n",
       "      <th>LGBM_treino</th>\n",
       "      <td>0.787141</td>\n",
       "      <td>0.780187</td>\n",
       "      <td>0.799504</td>\n",
       "      <td>0.574283</td>\n",
       "      <td>0.787142</td>\n",
       "    </tr>\n",
       "  </tbody>\n",
       "</table>\n",
       "</div>"
      ],
      "text/plain": [
       "             Acurácia  Precisão  Sensibilidade     Kappa   roc_auc\n",
       "LGBM_teste   0.758637  0.751751       0.772539  0.517270  0.758633\n",
       "LGBM_treino  0.787141  0.780187       0.799504  0.574283  0.787142"
      ]
     },
     "execution_count": 37,
     "metadata": {},
     "output_type": "execute_result"
    }
   ],
   "source": [
    "y_predito_teste = ajust_lgbm.predict(X_teste)\n",
    "y_predito_treino = ajust_lgbm.predict(X_treino)\n",
    "\n",
    "medidas_lgbm = pd.DataFrame({'Acurácia':[accuracy_score(y_teste, y_predito_teste), accuracy_score(y_treino, y_predito_treino)],\n",
    "                            'Precisão':[precision_score(y_teste, y_predito_teste), precision_score(y_treino, y_predito_treino)], \n",
    "                            'Sensibilidade':[recall_score(y_teste, y_predito_teste), recall_score(y_treino, y_predito_treino)],\n",
    "                            'Kappa':[cohen_kappa_score(y_teste, y_predito_teste), cohen_kappa_score(y_treino, y_predito_treino)],\n",
    "                            'roc_auc':[roc_auc_score(y_teste, y_predito_teste), roc_auc_score(y_treino, y_predito_treino)]\n",
    "                           },\n",
    "                           index=['LGBM_teste', 'LGBM_treino'])\n",
    "medidas_lgbm "
   ]
  },
  {
   "cell_type": "markdown",
   "id": "3a45bb9c",
   "metadata": {},
   "source": [
    "### Interpretação do melhor modelo"
   ]
  },
  {
   "cell_type": "code",
   "execution_count": 50,
   "id": "e76de114",
   "metadata": {
    "scrolled": false
   },
   "outputs": [
    {
     "data": {
      "application/vnd.plotly.v1+json": {
       "config": {
        "plotlyServerURL": "https://plot.ly"
       },
       "data": [
        {
         "alignmentgroup": "True",
         "hovertemplate": "Importâncias=%{x}<br>Variáveis=%{y}<extra></extra>",
         "legendgroup": "",
         "marker": {
          "color": "#440154",
          "pattern": {
           "shape": ""
          }
         },
         "name": "",
         "offsetgroup": "",
         "orientation": "h",
         "showlegend": false,
         "textposition": "auto",
         "type": "bar",
         "x": [
          109.90294045209885,
          311.50587606430054,
          613.9106694757938,
          750.2540234029293,
          966.4766833782196,
          1009.95305788517,
          1139.5266888141632,
          1401.0051231384277,
          1644.6557573974133,
          2991.21564078331,
          4483.149355649948,
          4833.33396589756,
          5266.356913387775,
          8489.72839948535,
          8904.389587908983,
          28648.66226489842
         ],
         "xaxis": "x",
         "y": [
          "Alcoolatra",
          "Deficiente",
          "Qua",
          "Sex",
          "Ter",
          "Qtd_doencas",
          "Qui",
          "Feminimo",
          "SMS_received",
          "Chuva",
          "Seg",
          "TempMinAG",
          "PrecipitaçãoMediaAG",
          "TempMaxAG",
          "Idade",
          "TempoEspera"
         ],
         "yaxis": "y"
        }
       ],
       "layout": {
        "barmode": "relative",
        "legend": {
         "tracegroupgap": 0
        },
        "margin": {
         "t": 60
        },
        "template": {
         "data": {
          "bar": [
           {
            "error_x": {
             "color": "#2a3f5f"
            },
            "error_y": {
             "color": "#2a3f5f"
            },
            "marker": {
             "line": {
              "color": "#E5ECF6",
              "width": 0.5
             },
             "pattern": {
              "fillmode": "overlay",
              "size": 10,
              "solidity": 0.2
             }
            },
            "type": "bar"
           }
          ],
          "barpolar": [
           {
            "marker": {
             "line": {
              "color": "#E5ECF6",
              "width": 0.5
             },
             "pattern": {
              "fillmode": "overlay",
              "size": 10,
              "solidity": 0.2
             }
            },
            "type": "barpolar"
           }
          ],
          "carpet": [
           {
            "aaxis": {
             "endlinecolor": "#2a3f5f",
             "gridcolor": "white",
             "linecolor": "white",
             "minorgridcolor": "white",
             "startlinecolor": "#2a3f5f"
            },
            "baxis": {
             "endlinecolor": "#2a3f5f",
             "gridcolor": "white",
             "linecolor": "white",
             "minorgridcolor": "white",
             "startlinecolor": "#2a3f5f"
            },
            "type": "carpet"
           }
          ],
          "choropleth": [
           {
            "colorbar": {
             "outlinewidth": 0,
             "ticks": ""
            },
            "type": "choropleth"
           }
          ],
          "contour": [
           {
            "colorbar": {
             "outlinewidth": 0,
             "ticks": ""
            },
            "colorscale": [
             [
              0,
              "#0d0887"
             ],
             [
              0.1111111111111111,
              "#46039f"
             ],
             [
              0.2222222222222222,
              "#7201a8"
             ],
             [
              0.3333333333333333,
              "#9c179e"
             ],
             [
              0.4444444444444444,
              "#bd3786"
             ],
             [
              0.5555555555555556,
              "#d8576b"
             ],
             [
              0.6666666666666666,
              "#ed7953"
             ],
             [
              0.7777777777777778,
              "#fb9f3a"
             ],
             [
              0.8888888888888888,
              "#fdca26"
             ],
             [
              1,
              "#f0f921"
             ]
            ],
            "type": "contour"
           }
          ],
          "contourcarpet": [
           {
            "colorbar": {
             "outlinewidth": 0,
             "ticks": ""
            },
            "type": "contourcarpet"
           }
          ],
          "heatmap": [
           {
            "colorbar": {
             "outlinewidth": 0,
             "ticks": ""
            },
            "colorscale": [
             [
              0,
              "#0d0887"
             ],
             [
              0.1111111111111111,
              "#46039f"
             ],
             [
              0.2222222222222222,
              "#7201a8"
             ],
             [
              0.3333333333333333,
              "#9c179e"
             ],
             [
              0.4444444444444444,
              "#bd3786"
             ],
             [
              0.5555555555555556,
              "#d8576b"
             ],
             [
              0.6666666666666666,
              "#ed7953"
             ],
             [
              0.7777777777777778,
              "#fb9f3a"
             ],
             [
              0.8888888888888888,
              "#fdca26"
             ],
             [
              1,
              "#f0f921"
             ]
            ],
            "type": "heatmap"
           }
          ],
          "heatmapgl": [
           {
            "colorbar": {
             "outlinewidth": 0,
             "ticks": ""
            },
            "colorscale": [
             [
              0,
              "#0d0887"
             ],
             [
              0.1111111111111111,
              "#46039f"
             ],
             [
              0.2222222222222222,
              "#7201a8"
             ],
             [
              0.3333333333333333,
              "#9c179e"
             ],
             [
              0.4444444444444444,
              "#bd3786"
             ],
             [
              0.5555555555555556,
              "#d8576b"
             ],
             [
              0.6666666666666666,
              "#ed7953"
             ],
             [
              0.7777777777777778,
              "#fb9f3a"
             ],
             [
              0.8888888888888888,
              "#fdca26"
             ],
             [
              1,
              "#f0f921"
             ]
            ],
            "type": "heatmapgl"
           }
          ],
          "histogram": [
           {
            "marker": {
             "pattern": {
              "fillmode": "overlay",
              "size": 10,
              "solidity": 0.2
             }
            },
            "type": "histogram"
           }
          ],
          "histogram2d": [
           {
            "colorbar": {
             "outlinewidth": 0,
             "ticks": ""
            },
            "colorscale": [
             [
              0,
              "#0d0887"
             ],
             [
              0.1111111111111111,
              "#46039f"
             ],
             [
              0.2222222222222222,
              "#7201a8"
             ],
             [
              0.3333333333333333,
              "#9c179e"
             ],
             [
              0.4444444444444444,
              "#bd3786"
             ],
             [
              0.5555555555555556,
              "#d8576b"
             ],
             [
              0.6666666666666666,
              "#ed7953"
             ],
             [
              0.7777777777777778,
              "#fb9f3a"
             ],
             [
              0.8888888888888888,
              "#fdca26"
             ],
             [
              1,
              "#f0f921"
             ]
            ],
            "type": "histogram2d"
           }
          ],
          "histogram2dcontour": [
           {
            "colorbar": {
             "outlinewidth": 0,
             "ticks": ""
            },
            "colorscale": [
             [
              0,
              "#0d0887"
             ],
             [
              0.1111111111111111,
              "#46039f"
             ],
             [
              0.2222222222222222,
              "#7201a8"
             ],
             [
              0.3333333333333333,
              "#9c179e"
             ],
             [
              0.4444444444444444,
              "#bd3786"
             ],
             [
              0.5555555555555556,
              "#d8576b"
             ],
             [
              0.6666666666666666,
              "#ed7953"
             ],
             [
              0.7777777777777778,
              "#fb9f3a"
             ],
             [
              0.8888888888888888,
              "#fdca26"
             ],
             [
              1,
              "#f0f921"
             ]
            ],
            "type": "histogram2dcontour"
           }
          ],
          "mesh3d": [
           {
            "colorbar": {
             "outlinewidth": 0,
             "ticks": ""
            },
            "type": "mesh3d"
           }
          ],
          "parcoords": [
           {
            "line": {
             "colorbar": {
              "outlinewidth": 0,
              "ticks": ""
             }
            },
            "type": "parcoords"
           }
          ],
          "pie": [
           {
            "automargin": true,
            "type": "pie"
           }
          ],
          "scatter": [
           {
            "fillpattern": {
             "fillmode": "overlay",
             "size": 10,
             "solidity": 0.2
            },
            "type": "scatter"
           }
          ],
          "scatter3d": [
           {
            "line": {
             "colorbar": {
              "outlinewidth": 0,
              "ticks": ""
             }
            },
            "marker": {
             "colorbar": {
              "outlinewidth": 0,
              "ticks": ""
             }
            },
            "type": "scatter3d"
           }
          ],
          "scattercarpet": [
           {
            "marker": {
             "colorbar": {
              "outlinewidth": 0,
              "ticks": ""
             }
            },
            "type": "scattercarpet"
           }
          ],
          "scattergeo": [
           {
            "marker": {
             "colorbar": {
              "outlinewidth": 0,
              "ticks": ""
             }
            },
            "type": "scattergeo"
           }
          ],
          "scattergl": [
           {
            "marker": {
             "colorbar": {
              "outlinewidth": 0,
              "ticks": ""
             }
            },
            "type": "scattergl"
           }
          ],
          "scattermapbox": [
           {
            "marker": {
             "colorbar": {
              "outlinewidth": 0,
              "ticks": ""
             }
            },
            "type": "scattermapbox"
           }
          ],
          "scatterpolar": [
           {
            "marker": {
             "colorbar": {
              "outlinewidth": 0,
              "ticks": ""
             }
            },
            "type": "scatterpolar"
           }
          ],
          "scatterpolargl": [
           {
            "marker": {
             "colorbar": {
              "outlinewidth": 0,
              "ticks": ""
             }
            },
            "type": "scatterpolargl"
           }
          ],
          "scatterternary": [
           {
            "marker": {
             "colorbar": {
              "outlinewidth": 0,
              "ticks": ""
             }
            },
            "type": "scatterternary"
           }
          ],
          "surface": [
           {
            "colorbar": {
             "outlinewidth": 0,
             "ticks": ""
            },
            "colorscale": [
             [
              0,
              "#0d0887"
             ],
             [
              0.1111111111111111,
              "#46039f"
             ],
             [
              0.2222222222222222,
              "#7201a8"
             ],
             [
              0.3333333333333333,
              "#9c179e"
             ],
             [
              0.4444444444444444,
              "#bd3786"
             ],
             [
              0.5555555555555556,
              "#d8576b"
             ],
             [
              0.6666666666666666,
              "#ed7953"
             ],
             [
              0.7777777777777778,
              "#fb9f3a"
             ],
             [
              0.8888888888888888,
              "#fdca26"
             ],
             [
              1,
              "#f0f921"
             ]
            ],
            "type": "surface"
           }
          ],
          "table": [
           {
            "cells": {
             "fill": {
              "color": "#EBF0F8"
             },
             "line": {
              "color": "white"
             }
            },
            "header": {
             "fill": {
              "color": "#C8D4E3"
             },
             "line": {
              "color": "white"
             }
            },
            "type": "table"
           }
          ]
         },
         "layout": {
          "annotationdefaults": {
           "arrowcolor": "#2a3f5f",
           "arrowhead": 0,
           "arrowwidth": 1
          },
          "autotypenumbers": "strict",
          "coloraxis": {
           "colorbar": {
            "outlinewidth": 0,
            "ticks": ""
           }
          },
          "colorscale": {
           "diverging": [
            [
             0,
             "#8e0152"
            ],
            [
             0.1,
             "#c51b7d"
            ],
            [
             0.2,
             "#de77ae"
            ],
            [
             0.3,
             "#f1b6da"
            ],
            [
             0.4,
             "#fde0ef"
            ],
            [
             0.5,
             "#f7f7f7"
            ],
            [
             0.6,
             "#e6f5d0"
            ],
            [
             0.7,
             "#b8e186"
            ],
            [
             0.8,
             "#7fbc41"
            ],
            [
             0.9,
             "#4d9221"
            ],
            [
             1,
             "#276419"
            ]
           ],
           "sequential": [
            [
             0,
             "#0d0887"
            ],
            [
             0.1111111111111111,
             "#46039f"
            ],
            [
             0.2222222222222222,
             "#7201a8"
            ],
            [
             0.3333333333333333,
             "#9c179e"
            ],
            [
             0.4444444444444444,
             "#bd3786"
            ],
            [
             0.5555555555555556,
             "#d8576b"
            ],
            [
             0.6666666666666666,
             "#ed7953"
            ],
            [
             0.7777777777777778,
             "#fb9f3a"
            ],
            [
             0.8888888888888888,
             "#fdca26"
            ],
            [
             1,
             "#f0f921"
            ]
           ],
           "sequentialminus": [
            [
             0,
             "#0d0887"
            ],
            [
             0.1111111111111111,
             "#46039f"
            ],
            [
             0.2222222222222222,
             "#7201a8"
            ],
            [
             0.3333333333333333,
             "#9c179e"
            ],
            [
             0.4444444444444444,
             "#bd3786"
            ],
            [
             0.5555555555555556,
             "#d8576b"
            ],
            [
             0.6666666666666666,
             "#ed7953"
            ],
            [
             0.7777777777777778,
             "#fb9f3a"
            ],
            [
             0.8888888888888888,
             "#fdca26"
            ],
            [
             1,
             "#f0f921"
            ]
           ]
          },
          "colorway": [
           "#636efa",
           "#EF553B",
           "#00cc96",
           "#ab63fa",
           "#FFA15A",
           "#19d3f3",
           "#FF6692",
           "#B6E880",
           "#FF97FF",
           "#FECB52"
          ],
          "font": {
           "color": "#2a3f5f"
          },
          "geo": {
           "bgcolor": "white",
           "lakecolor": "white",
           "landcolor": "#E5ECF6",
           "showlakes": true,
           "showland": true,
           "subunitcolor": "white"
          },
          "hoverlabel": {
           "align": "left"
          },
          "hovermode": "closest",
          "mapbox": {
           "style": "light"
          },
          "paper_bgcolor": "white",
          "plot_bgcolor": "#E5ECF6",
          "polar": {
           "angularaxis": {
            "gridcolor": "white",
            "linecolor": "white",
            "ticks": ""
           },
           "bgcolor": "#E5ECF6",
           "radialaxis": {
            "gridcolor": "white",
            "linecolor": "white",
            "ticks": ""
           }
          },
          "scene": {
           "xaxis": {
            "backgroundcolor": "#E5ECF6",
            "gridcolor": "white",
            "gridwidth": 2,
            "linecolor": "white",
            "showbackground": true,
            "ticks": "",
            "zerolinecolor": "white"
           },
           "yaxis": {
            "backgroundcolor": "#E5ECF6",
            "gridcolor": "white",
            "gridwidth": 2,
            "linecolor": "white",
            "showbackground": true,
            "ticks": "",
            "zerolinecolor": "white"
           },
           "zaxis": {
            "backgroundcolor": "#E5ECF6",
            "gridcolor": "white",
            "gridwidth": 2,
            "linecolor": "white",
            "showbackground": true,
            "ticks": "",
            "zerolinecolor": "white"
           }
          },
          "shapedefaults": {
           "line": {
            "color": "#2a3f5f"
           }
          },
          "ternary": {
           "aaxis": {
            "gridcolor": "white",
            "linecolor": "white",
            "ticks": ""
           },
           "baxis": {
            "gridcolor": "white",
            "linecolor": "white",
            "ticks": ""
           },
           "bgcolor": "#E5ECF6",
           "caxis": {
            "gridcolor": "white",
            "linecolor": "white",
            "ticks": ""
           }
          },
          "title": {
           "x": 0.05
          },
          "xaxis": {
           "automargin": true,
           "gridcolor": "white",
           "linecolor": "white",
           "ticks": "",
           "title": {
            "standoff": 15
           },
           "zerolinecolor": "white",
           "zerolinewidth": 2
          },
          "yaxis": {
           "automargin": true,
           "gridcolor": "white",
           "linecolor": "white",
           "ticks": "",
           "title": {
            "standoff": 15
           },
           "zerolinecolor": "white",
           "zerolinewidth": 2
          }
         }
        },
        "xaxis": {
         "anchor": "y",
         "domain": [
          0,
          1
         ],
         "title": {
          "text": "Importâncias"
         }
        },
        "yaxis": {
         "anchor": "x",
         "domain": [
          0,
          1
         ],
         "title": {
          "text": "Variáveis"
         }
        }
       }
      },
      "text/html": [
       "<div>                            <div id=\"fdc85d63-c1f1-4366-92ea-c2a7dd908bfe\" class=\"plotly-graph-div\" style=\"height:525px; width:100%;\"></div>            <script type=\"text/javascript\">                require([\"plotly\"], function(Plotly) {                    window.PLOTLYENV=window.PLOTLYENV || {};                                    if (document.getElementById(\"fdc85d63-c1f1-4366-92ea-c2a7dd908bfe\")) {                    Plotly.newPlot(                        \"fdc85d63-c1f1-4366-92ea-c2a7dd908bfe\",                        [{\"alignmentgroup\":\"True\",\"hovertemplate\":\"Import\\u00e2ncias=%{x}<br>Vari\\u00e1veis=%{y}<extra></extra>\",\"legendgroup\":\"\",\"marker\":{\"color\":\"#440154\",\"pattern\":{\"shape\":\"\"}},\"name\":\"\",\"offsetgroup\":\"\",\"orientation\":\"h\",\"showlegend\":false,\"textposition\":\"auto\",\"x\":[109.90294045209885,311.50587606430054,613.9106694757938,750.2540234029293,966.4766833782196,1009.95305788517,1139.5266888141632,1401.0051231384277,1644.6557573974133,2991.21564078331,4483.149355649948,4833.33396589756,5266.356913387775,8489.72839948535,8904.389587908983,28648.66226489842],\"xaxis\":\"x\",\"y\":[\"Alcoolatra\",\"Deficiente\",\"Qua\",\"Sex\",\"Ter\",\"Qtd_doencas\",\"Qui\",\"Feminimo\",\"SMS_received\",\"Chuva\",\"Seg\",\"TempMinAG\",\"Precipita\\u00e7\\u00e3oMediaAG\",\"TempMaxAG\",\"Idade\",\"TempoEspera\"],\"yaxis\":\"y\",\"type\":\"bar\"}],                        {\"template\":{\"data\":{\"histogram2dcontour\":[{\"type\":\"histogram2dcontour\",\"colorbar\":{\"outlinewidth\":0,\"ticks\":\"\"},\"colorscale\":[[0.0,\"#0d0887\"],[0.1111111111111111,\"#46039f\"],[0.2222222222222222,\"#7201a8\"],[0.3333333333333333,\"#9c179e\"],[0.4444444444444444,\"#bd3786\"],[0.5555555555555556,\"#d8576b\"],[0.6666666666666666,\"#ed7953\"],[0.7777777777777778,\"#fb9f3a\"],[0.8888888888888888,\"#fdca26\"],[1.0,\"#f0f921\"]]}],\"choropleth\":[{\"type\":\"choropleth\",\"colorbar\":{\"outlinewidth\":0,\"ticks\":\"\"}}],\"histogram2d\":[{\"type\":\"histogram2d\",\"colorbar\":{\"outlinewidth\":0,\"ticks\":\"\"},\"colorscale\":[[0.0,\"#0d0887\"],[0.1111111111111111,\"#46039f\"],[0.2222222222222222,\"#7201a8\"],[0.3333333333333333,\"#9c179e\"],[0.4444444444444444,\"#bd3786\"],[0.5555555555555556,\"#d8576b\"],[0.6666666666666666,\"#ed7953\"],[0.7777777777777778,\"#fb9f3a\"],[0.8888888888888888,\"#fdca26\"],[1.0,\"#f0f921\"]]}],\"heatmap\":[{\"type\":\"heatmap\",\"colorbar\":{\"outlinewidth\":0,\"ticks\":\"\"},\"colorscale\":[[0.0,\"#0d0887\"],[0.1111111111111111,\"#46039f\"],[0.2222222222222222,\"#7201a8\"],[0.3333333333333333,\"#9c179e\"],[0.4444444444444444,\"#bd3786\"],[0.5555555555555556,\"#d8576b\"],[0.6666666666666666,\"#ed7953\"],[0.7777777777777778,\"#fb9f3a\"],[0.8888888888888888,\"#fdca26\"],[1.0,\"#f0f921\"]]}],\"heatmapgl\":[{\"type\":\"heatmapgl\",\"colorbar\":{\"outlinewidth\":0,\"ticks\":\"\"},\"colorscale\":[[0.0,\"#0d0887\"],[0.1111111111111111,\"#46039f\"],[0.2222222222222222,\"#7201a8\"],[0.3333333333333333,\"#9c179e\"],[0.4444444444444444,\"#bd3786\"],[0.5555555555555556,\"#d8576b\"],[0.6666666666666666,\"#ed7953\"],[0.7777777777777778,\"#fb9f3a\"],[0.8888888888888888,\"#fdca26\"],[1.0,\"#f0f921\"]]}],\"contourcarpet\":[{\"type\":\"contourcarpet\",\"colorbar\":{\"outlinewidth\":0,\"ticks\":\"\"}}],\"contour\":[{\"type\":\"contour\",\"colorbar\":{\"outlinewidth\":0,\"ticks\":\"\"},\"colorscale\":[[0.0,\"#0d0887\"],[0.1111111111111111,\"#46039f\"],[0.2222222222222222,\"#7201a8\"],[0.3333333333333333,\"#9c179e\"],[0.4444444444444444,\"#bd3786\"],[0.5555555555555556,\"#d8576b\"],[0.6666666666666666,\"#ed7953\"],[0.7777777777777778,\"#fb9f3a\"],[0.8888888888888888,\"#fdca26\"],[1.0,\"#f0f921\"]]}],\"surface\":[{\"type\":\"surface\",\"colorbar\":{\"outlinewidth\":0,\"ticks\":\"\"},\"colorscale\":[[0.0,\"#0d0887\"],[0.1111111111111111,\"#46039f\"],[0.2222222222222222,\"#7201a8\"],[0.3333333333333333,\"#9c179e\"],[0.4444444444444444,\"#bd3786\"],[0.5555555555555556,\"#d8576b\"],[0.6666666666666666,\"#ed7953\"],[0.7777777777777778,\"#fb9f3a\"],[0.8888888888888888,\"#fdca26\"],[1.0,\"#f0f921\"]]}],\"mesh3d\":[{\"type\":\"mesh3d\",\"colorbar\":{\"outlinewidth\":0,\"ticks\":\"\"}}],\"scatter\":[{\"fillpattern\":{\"fillmode\":\"overlay\",\"size\":10,\"solidity\":0.2},\"type\":\"scatter\"}],\"parcoords\":[{\"type\":\"parcoords\",\"line\":{\"colorbar\":{\"outlinewidth\":0,\"ticks\":\"\"}}}],\"scatterpolargl\":[{\"type\":\"scatterpolargl\",\"marker\":{\"colorbar\":{\"outlinewidth\":0,\"ticks\":\"\"}}}],\"bar\":[{\"error_x\":{\"color\":\"#2a3f5f\"},\"error_y\":{\"color\":\"#2a3f5f\"},\"marker\":{\"line\":{\"color\":\"#E5ECF6\",\"width\":0.5},\"pattern\":{\"fillmode\":\"overlay\",\"size\":10,\"solidity\":0.2}},\"type\":\"bar\"}],\"scattergeo\":[{\"type\":\"scattergeo\",\"marker\":{\"colorbar\":{\"outlinewidth\":0,\"ticks\":\"\"}}}],\"scatterpolar\":[{\"type\":\"scatterpolar\",\"marker\":{\"colorbar\":{\"outlinewidth\":0,\"ticks\":\"\"}}}],\"histogram\":[{\"marker\":{\"pattern\":{\"fillmode\":\"overlay\",\"size\":10,\"solidity\":0.2}},\"type\":\"histogram\"}],\"scattergl\":[{\"type\":\"scattergl\",\"marker\":{\"colorbar\":{\"outlinewidth\":0,\"ticks\":\"\"}}}],\"scatter3d\":[{\"type\":\"scatter3d\",\"line\":{\"colorbar\":{\"outlinewidth\":0,\"ticks\":\"\"}},\"marker\":{\"colorbar\":{\"outlinewidth\":0,\"ticks\":\"\"}}}],\"scattermapbox\":[{\"type\":\"scattermapbox\",\"marker\":{\"colorbar\":{\"outlinewidth\":0,\"ticks\":\"\"}}}],\"scatterternary\":[{\"type\":\"scatterternary\",\"marker\":{\"colorbar\":{\"outlinewidth\":0,\"ticks\":\"\"}}}],\"scattercarpet\":[{\"type\":\"scattercarpet\",\"marker\":{\"colorbar\":{\"outlinewidth\":0,\"ticks\":\"\"}}}],\"carpet\":[{\"aaxis\":{\"endlinecolor\":\"#2a3f5f\",\"gridcolor\":\"white\",\"linecolor\":\"white\",\"minorgridcolor\":\"white\",\"startlinecolor\":\"#2a3f5f\"},\"baxis\":{\"endlinecolor\":\"#2a3f5f\",\"gridcolor\":\"white\",\"linecolor\":\"white\",\"minorgridcolor\":\"white\",\"startlinecolor\":\"#2a3f5f\"},\"type\":\"carpet\"}],\"table\":[{\"cells\":{\"fill\":{\"color\":\"#EBF0F8\"},\"line\":{\"color\":\"white\"}},\"header\":{\"fill\":{\"color\":\"#C8D4E3\"},\"line\":{\"color\":\"white\"}},\"type\":\"table\"}],\"barpolar\":[{\"marker\":{\"line\":{\"color\":\"#E5ECF6\",\"width\":0.5},\"pattern\":{\"fillmode\":\"overlay\",\"size\":10,\"solidity\":0.2}},\"type\":\"barpolar\"}],\"pie\":[{\"automargin\":true,\"type\":\"pie\"}]},\"layout\":{\"autotypenumbers\":\"strict\",\"colorway\":[\"#636efa\",\"#EF553B\",\"#00cc96\",\"#ab63fa\",\"#FFA15A\",\"#19d3f3\",\"#FF6692\",\"#B6E880\",\"#FF97FF\",\"#FECB52\"],\"font\":{\"color\":\"#2a3f5f\"},\"hovermode\":\"closest\",\"hoverlabel\":{\"align\":\"left\"},\"paper_bgcolor\":\"white\",\"plot_bgcolor\":\"#E5ECF6\",\"polar\":{\"bgcolor\":\"#E5ECF6\",\"angularaxis\":{\"gridcolor\":\"white\",\"linecolor\":\"white\",\"ticks\":\"\"},\"radialaxis\":{\"gridcolor\":\"white\",\"linecolor\":\"white\",\"ticks\":\"\"}},\"ternary\":{\"bgcolor\":\"#E5ECF6\",\"aaxis\":{\"gridcolor\":\"white\",\"linecolor\":\"white\",\"ticks\":\"\"},\"baxis\":{\"gridcolor\":\"white\",\"linecolor\":\"white\",\"ticks\":\"\"},\"caxis\":{\"gridcolor\":\"white\",\"linecolor\":\"white\",\"ticks\":\"\"}},\"coloraxis\":{\"colorbar\":{\"outlinewidth\":0,\"ticks\":\"\"}},\"colorscale\":{\"sequential\":[[0.0,\"#0d0887\"],[0.1111111111111111,\"#46039f\"],[0.2222222222222222,\"#7201a8\"],[0.3333333333333333,\"#9c179e\"],[0.4444444444444444,\"#bd3786\"],[0.5555555555555556,\"#d8576b\"],[0.6666666666666666,\"#ed7953\"],[0.7777777777777778,\"#fb9f3a\"],[0.8888888888888888,\"#fdca26\"],[1.0,\"#f0f921\"]],\"sequentialminus\":[[0.0,\"#0d0887\"],[0.1111111111111111,\"#46039f\"],[0.2222222222222222,\"#7201a8\"],[0.3333333333333333,\"#9c179e\"],[0.4444444444444444,\"#bd3786\"],[0.5555555555555556,\"#d8576b\"],[0.6666666666666666,\"#ed7953\"],[0.7777777777777778,\"#fb9f3a\"],[0.8888888888888888,\"#fdca26\"],[1.0,\"#f0f921\"]],\"diverging\":[[0,\"#8e0152\"],[0.1,\"#c51b7d\"],[0.2,\"#de77ae\"],[0.3,\"#f1b6da\"],[0.4,\"#fde0ef\"],[0.5,\"#f7f7f7\"],[0.6,\"#e6f5d0\"],[0.7,\"#b8e186\"],[0.8,\"#7fbc41\"],[0.9,\"#4d9221\"],[1,\"#276419\"]]},\"xaxis\":{\"gridcolor\":\"white\",\"linecolor\":\"white\",\"ticks\":\"\",\"title\":{\"standoff\":15},\"zerolinecolor\":\"white\",\"automargin\":true,\"zerolinewidth\":2},\"yaxis\":{\"gridcolor\":\"white\",\"linecolor\":\"white\",\"ticks\":\"\",\"title\":{\"standoff\":15},\"zerolinecolor\":\"white\",\"automargin\":true,\"zerolinewidth\":2},\"scene\":{\"xaxis\":{\"backgroundcolor\":\"#E5ECF6\",\"gridcolor\":\"white\",\"linecolor\":\"white\",\"showbackground\":true,\"ticks\":\"\",\"zerolinecolor\":\"white\",\"gridwidth\":2},\"yaxis\":{\"backgroundcolor\":\"#E5ECF6\",\"gridcolor\":\"white\",\"linecolor\":\"white\",\"showbackground\":true,\"ticks\":\"\",\"zerolinecolor\":\"white\",\"gridwidth\":2},\"zaxis\":{\"backgroundcolor\":\"#E5ECF6\",\"gridcolor\":\"white\",\"linecolor\":\"white\",\"showbackground\":true,\"ticks\":\"\",\"zerolinecolor\":\"white\",\"gridwidth\":2}},\"shapedefaults\":{\"line\":{\"color\":\"#2a3f5f\"}},\"annotationdefaults\":{\"arrowcolor\":\"#2a3f5f\",\"arrowhead\":0,\"arrowwidth\":1},\"geo\":{\"bgcolor\":\"white\",\"landcolor\":\"#E5ECF6\",\"subunitcolor\":\"white\",\"showland\":true,\"showlakes\":true,\"lakecolor\":\"white\"},\"title\":{\"x\":0.05},\"mapbox\":{\"style\":\"light\"}}},\"xaxis\":{\"anchor\":\"y\",\"domain\":[0.0,1.0],\"title\":{\"text\":\"Import\\u00e2ncias\"}},\"yaxis\":{\"anchor\":\"x\",\"domain\":[0.0,1.0],\"title\":{\"text\":\"Vari\\u00e1veis\"}},\"legend\":{\"tracegroupgap\":0},\"margin\":{\"t\":60},\"barmode\":\"relative\"},                        {\"responsive\": true}                    ).then(function(){\n",
       "                            \n",
       "var gd = document.getElementById('fdc85d63-c1f1-4366-92ea-c2a7dd908bfe');\n",
       "var x = new MutationObserver(function (mutations, observer) {{\n",
       "        var display = window.getComputedStyle(gd).display;\n",
       "        if (!display || display === 'none') {{\n",
       "            console.log([gd, 'removed!']);\n",
       "            Plotly.purge(gd);\n",
       "            observer.disconnect();\n",
       "        }}\n",
       "}});\n",
       "\n",
       "// Listen for the removal of the full notebook cells\n",
       "var notebookContainer = gd.closest('#notebook-container');\n",
       "if (notebookContainer) {{\n",
       "    x.observe(notebookContainer, {childList: true});\n",
       "}}\n",
       "\n",
       "// Listen for the clearing of the current output cell\n",
       "var outputEl = gd.closest('.output');\n",
       "if (outputEl) {{\n",
       "    x.observe(outputEl, {childList: true});\n",
       "}}\n",
       "\n",
       "                        })                };                });            </script>        </div>"
      ]
     },
     "metadata": {},
     "output_type": "display_data"
    }
   ],
   "source": [
    "importancias = pd.DataFrame({'Variáveis': lgbm_tunado.feature_name_,'Importâncias':lgbm_tunado.feature_importances_}).sort_values(by='Importâncias', ascending = True)\n",
    "\n",
    "px.bar(data_frame = importancias, x = 'Importâncias', y = 'Variáveis', color_discrete_sequence = px.colors.sequential.Viridis)"
   ]
  },
  {
   "cell_type": "code",
   "execution_count": 51,
   "id": "811b9eb0",
   "metadata": {},
   "outputs": [],
   "source": [
    "## Usando valores de SHAP\n",
    "explainer = shap.Explainer(lgbm_tunado)\n",
    "shap_values = explainer(X_treino)"
   ]
  },
  {
   "cell_type": "code",
   "execution_count": 56,
   "id": "8b8d58a6",
   "metadata": {},
   "outputs": [
    {
     "data": {
      "image/png": "[encoded data removed]",
      "text/plain": [
       "<Figure size 800x790 with 2 Axes>"
      ]
     },
     "metadata": {},
     "output_type": "display_data"
    },
    {
     "ename": "AttributeError",
     "evalue": "'NoneType' object has no attribute 'show'",
     "output_type": "error",
     "traceback": [
      "\u001b[1;31m---------------------------------------------------------------------------\u001b[0m",
      "\u001b[1;31mAttributeError\u001b[0m                            Traceback (most recent call last)",
      "\u001b[1;32m~\\AppData\\Local\\Temp\\ipykernel_29952\\51647230.py\u001b[0m in \u001b[0;36m<module>\u001b[1;34m\u001b[0m\n\u001b[0;32m      2\u001b[0m \u001b[1;33m\u001b[0m\u001b[0m\n\u001b[0;32m      3\u001b[0m \u001b[0mfig\u001b[0m \u001b[1;33m=\u001b[0m \u001b[0mshap\u001b[0m\u001b[1;33m.\u001b[0m\u001b[0msummary_plot\u001b[0m\u001b[1;33m(\u001b[0m\u001b[0mshap_values\u001b[0m\u001b[1;33m,\u001b[0m \u001b[0mX_treino\u001b[0m\u001b[1;33m)\u001b[0m\u001b[1;33m\u001b[0m\u001b[1;33m\u001b[0m\u001b[0m\n\u001b[1;32m----> 4\u001b[1;33m \u001b[0mfig\u001b[0m\u001b[1;33m.\u001b[0m\u001b[0mshow\u001b[0m\u001b[1;33m(\u001b[0m\u001b[1;33m)\u001b[0m\u001b[1;33m\u001b[0m\u001b[1;33m\u001b[0m\u001b[0m\n\u001b[0m",
      "\u001b[1;31mAttributeError\u001b[0m: 'NoneType' object has no attribute 'show'"
     ]
    }
   ],
   "source": [
    "plt.subplots(figsize = (10,8))\n",
    "\n",
    "shap.summary_plot(shap_values, X_treino)"
   ]
  },
  {
   "cell_type": "code",
   "execution_count": null,
   "id": "b36dbc0b",
   "metadata": {},
   "outputs": [],
   "source": []
  }
 ],
 "metadata": {
  "kernelspec": {
   "display_name": "Python 3 (ipykernel)",
   "language": "python",
   "name": "python3"
  },
  "language_info": {
   "codemirror_mode": {
    "name": "ipython",
    "version": 3
   },
   "file_extension": ".py",
   "mimetype": "text/x-python",
   "name": "python",
   "nbconvert_exporter": "python",
   "pygments_lexer": "ipython3",
   "version": "3.9.13"
  }
 },
 "nbformat": 4,
 "nbformat_minor": 5
}
